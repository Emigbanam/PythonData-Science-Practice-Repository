{
 "cells": [
  {
   "cell_type": "code",
   "id": "initial_id",
   "metadata": {
    "collapsed": true,
    "ExecuteTime": {
     "end_time": "2025-06-27T18:56:47.704855Z",
     "start_time": "2025-06-27T18:56:46.120098Z"
    }
   },
   "source": [
    "import numpy as np\n",
    "import pandas as pd\n",
    "import matplotlib.pyplot as plt\n",
    "import seaborn as sns\n",
    "from scipy.stats import norm\n",
    "from scipy.stats import t\n",
    "import pingouin\n",
    "import warnings\n",
    "warnings.simplefilter(\"ignore\")"
   ],
   "outputs": [],
   "execution_count": 2
  },
  {
   "metadata": {
    "ExecuteTime": {
     "end_time": "2025-06-27T18:56:47.765801Z",
     "start_time": "2025-06-27T18:56:47.725748Z"
    }
   },
   "cell_type": "code",
   "source": [
    "dem_data = pd.read_csv(\"C:/Users/Emigb/Documents/Data Science/datasets/dem_votes_potus_12_16.csv\")\n",
    "print(dem_data.head())"
   ],
   "id": "ee592c3d6153611d",
   "outputs": [
    {
     "name": "stdout",
     "output_type": "stream",
     "text": [
      "     state    county  dem_percent_12  dem_percent_16\n",
      "0  Alabama   Bullock       76.305900       74.946921\n",
      "1  Alabama   Chilton       19.453671       15.847352\n",
      "2  Alabama      Clay       26.673672       18.674517\n",
      "3  Alabama   Cullman       14.661752       10.028252\n",
      "4  Alabama  Escambia       36.915731       31.020546\n"
     ]
    }
   ],
   "execution_count": 3
  },
  {
   "metadata": {},
   "cell_type": "markdown",
   "source": [
    "Visualizing the difference\n",
    "\n",
    "\n",
    "\n",
    "Before you start running hypothesis tests, it's a great idea to perform some exploratory data analysis; that is, calculating summary statistics and visualizing distributions.\n",
    "\n",
    "Here, you'll look at the proportion of county-level votes for the Democratic candidate in 2012 and 2016, sample_dem_data. Since the counties are the same in both years, these samples are paired. The columns containing the samples are dem_percent_12 and dem_percent_16.\n"
   ],
   "id": "6866942a85b282d4"
  },
  {
   "metadata": {
    "ExecuteTime": {
     "end_time": "2025-06-27T18:56:47.811042Z",
     "start_time": "2025-06-27T18:56:47.794979Z"
    }
   },
   "cell_type": "code",
   "source": [
    "#1. Create a new diff column containing the percentage of votes for the democratic candidate in 2012 minus the percentage of votes for the democratic candidate in 2016.\n",
    "\n",
    "dem_data['diff'] = dem_data['dem_percent_12'] - dem_data['dem_percent_16']\n",
    "print(dem_data.head())"
   ],
   "id": "e018a7d4fc2a7e6d",
   "outputs": [
    {
     "name": "stdout",
     "output_type": "stream",
     "text": [
      "     state    county  dem_percent_12  dem_percent_16      diff\n",
      "0  Alabama   Bullock       76.305900       74.946921  1.358979\n",
      "1  Alabama   Chilton       19.453671       15.847352  3.606319\n",
      "2  Alabama      Clay       26.673672       18.674517  7.999155\n",
      "3  Alabama   Cullman       14.661752       10.028252  4.633500\n",
      "4  Alabama  Escambia       36.915731       31.020546  5.895185\n"
     ]
    }
   ],
   "execution_count": 4
  },
  {
   "metadata": {
    "ExecuteTime": {
     "end_time": "2025-06-27T18:56:47.863824Z",
     "start_time": "2025-06-27T18:56:47.854375Z"
    }
   },
   "cell_type": "code",
   "source": [
    "#2. Calculate the mean of the diff column as xbar_diff\n",
    "\n",
    "xbar_diff = dem_data['diff'].mean()\n",
    "print(xbar_diff)"
   ],
   "id": "1c9d56db462f1a7f",
   "outputs": [
    {
     "name": "stdout",
     "output_type": "stream",
     "text": [
      "6.829312660106834\n"
     ]
    }
   ],
   "execution_count": 5
  },
  {
   "metadata": {
    "ExecuteTime": {
     "end_time": "2025-06-27T18:56:47.934300Z",
     "start_time": "2025-06-27T18:56:47.923037Z"
    }
   },
   "cell_type": "code",
   "source": [
    "#3. Calculate the standard deviation of the diff column as s_diff\n",
    "\n",
    "s_diff = dem_data['diff'].std()\n",
    "print(s_diff)\n",
    "\n",
    "#Calculating the sample size of the diff column\n",
    "n_diff = len(dem_data['diff'])\n",
    "print(n_diff)"
   ],
   "id": "fcb56ae4ea929f2f",
   "outputs": [
    {
     "name": "stdout",
     "output_type": "stream",
     "text": [
      "5.040139140132317\n",
      "500\n"
     ]
    }
   ],
   "execution_count": 6
  },
  {
   "metadata": {
    "ExecuteTime": {
     "end_time": "2025-06-27T18:56:48.399447Z",
     "start_time": "2025-06-27T18:56:47.987317Z"
    }
   },
   "cell_type": "code",
   "source": [
    "#4. Plot a histogram of the diff column with 20 bins.\n",
    "\n",
    "plt.hist(dem_data['diff'], bins=20)\n",
    "plt.show()"
   ],
   "id": "cce584176c932b8b",
   "outputs": [
    {
     "data": {
      "text/plain": [
       "<Figure size 640x480 with 1 Axes>"
      ],
      "image/png": "[encoded data removed]"
     },
     "metadata": {},
     "output_type": "display_data"
    }
   ],
   "execution_count": 7
  },
  {
   "metadata": {},
   "cell_type": "markdown",
   "source": [
    "Using TTEST()\n",
    "\n",
    "\n",
    "\n",
    "\n",
    "Manually calculating test statistics and transforming them with a CDF to get a p-value is a lot of effort to compare two sample means. The comparison of two sample means is called a t-test, and the pingouin Python package has a .ttest() method to accomplish it. This method provides some flexibility in how you perform the test.\n",
    "\n",
    "\n",
    "\n",
    "\n",
    "\n",
    "H₀: The proportion of democratic votes in 2012 and 2016 were the same.\n",
    "\n",
    "\n",
    "Hₐ: The proportion of democratic votes in 2012 and 2016 were different."
   ],
   "id": "70b9524bcda286d4"
  },
  {
   "metadata": {
    "ExecuteTime": {
     "end_time": "2025-06-27T18:56:48.469588Z",
     "start_time": "2025-06-27T18:56:48.421303Z"
    }
   },
   "cell_type": "code",
   "source": [
    "#1. Conduct a t-test on the sample differences (the diff column of sample_dem_data), using an appropriate alternative hypothesis chosen from \"two-sided\", \"less\", and \"greater\".\n",
    "\n",
    "#Calculating t_stat\n",
    "t_stat = (xbar_diff - 0)/ np.sqrt(s_diff ** 2/n_diff)\n",
    "print(t_stat)\n",
    "\n",
    "\n",
    "p_value = pingouin.ttest(x=dem_data['diff'], y=0, alternative='two-sided')\n",
    "print(p_value)"
   ],
   "id": "a9c6e822510f7fe",
   "outputs": [
    {
     "name": "stdout",
     "output_type": "stream",
     "text": [
      "30.298384475151405\n",
      "                T  dof alternative          p-val         CI95%   cohen-d  \\\n",
      "T-test  30.298384  499   two-sided  3.600634e-115  [6.39, 7.27]  1.354985   \n",
      "\n",
      "              BF10 power  \n",
      "T-test  2.246e+111   NaN  \n"
     ]
    }
   ],
   "execution_count": 8
  },
  {
   "metadata": {
    "ExecuteTime": {
     "end_time": "2025-06-27T18:56:48.531314Z",
     "start_time": "2025-06-27T18:56:48.506421Z"
    }
   },
   "cell_type": "code",
   "source": [
    "#2. Conduct a paired test on the democratic votes in 2012 and 2016 (the dem_percent_12 and dem_percent_16 columns of sample_dem_data), using an appropriate alternative hypothesis.\n",
    "\n",
    "p_val = pingouin.ttest(x=dem_data['dem_percent_12'], y=dem_data['dem_percent_16'], paired=True, alternative='two-sided')\n",
    "print(p_val)"
   ],
   "id": "1487693881969cf4",
   "outputs": [
    {
     "name": "stdout",
     "output_type": "stream",
     "text": [
      "                T  dof alternative          p-val         CI95%   cohen-d  \\\n",
      "T-test  30.298384  499   two-sided  3.600634e-115  [6.39, 7.27]  0.454202   \n",
      "\n",
      "              BF10 power  \n",
      "T-test  2.246e+111   NaN  \n"
     ]
    }
   ],
   "execution_count": 9
  },
  {
   "metadata": {},
   "cell_type": "markdown",
   "source": "TESTS FOR SINGLE PROPORTION",
   "id": "3c0a320ea31f5134"
  },
  {
   "metadata": {},
   "cell_type": "markdown",
   "source": "An alternative is to use an equation for the standard error based on the sample proportion, hypothesized proportion, and sample size.",
   "id": "d50e4d7fcdbb5608"
  },
  {
   "metadata": {
    "ExecuteTime": {
     "end_time": "2025-06-27T18:56:48.686631Z",
     "start_time": "2025-06-27T18:56:48.595136Z"
    }
   },
   "cell_type": "code",
   "source": [
    "late = pd.read_csv(\"C:/Users/Emigb/Documents/Data Science/datasets/late_shipments.csv\")\n",
    "late.head()"
   ],
   "id": "bf94cbc1d5c11dd0",
   "outputs": [
    {
     "data": {
      "text/plain": [
       "        id       country managed_by  fulfill_via vendor_inco_term  \\\n",
       "0  36203.0       Nigeria   PMO - US  Direct Drop              EXW   \n",
       "1  30998.0      Botswana   PMO - US  Direct Drop              EXW   \n",
       "2  69871.0       Vietnam   PMO - US  Direct Drop              EXW   \n",
       "3  17648.0  South Africa   PMO - US  Direct Drop              DDP   \n",
       "4   5647.0        Uganda   PMO - US  Direct Drop              EXW   \n",
       "\n",
       "  shipment_mode  late_delivery late product_group    sub_classification  ...  \\\n",
       "0           Air            1.0  Yes          HRDT              HIV test  ...   \n",
       "1           Air            0.0   No          HRDT              HIV test  ...   \n",
       "2           Air            0.0   No           ARV                 Adult  ...   \n",
       "3         Ocean            0.0   No           ARV                 Adult  ...   \n",
       "4           Air            0.0   No          HRDT  HIV test - Ancillary  ...   \n",
       "\n",
       "  line_item_quantity line_item_value pack_price unit_price  \\\n",
       "0             2996.0       266644.00      89.00       0.89   \n",
       "1               25.0          800.00      32.00       1.60   \n",
       "2            22925.0       110040.00       4.80       0.08   \n",
       "3           152535.0       361507.95       2.37       0.04   \n",
       "4              850.0            8.50       0.01       0.00   \n",
       "\n",
       "             manufacturing_site first_line_designation  weight_kilograms  \\\n",
       "0       Alere Medical Co., Ltd.                    Yes            1426.0   \n",
       "1          Trinity Biotech, Plc                    Yes              10.0   \n",
       "2  Hetero Unit III Hyderabad IN                    Yes            3723.0   \n",
       "3     Aurobindo Unit III, India                    Yes            7698.0   \n",
       "4               Inverness Japan                    Yes              56.0   \n",
       "\n",
       "   freight_cost_usd  freight_cost_groups  line_item_insurance_usd  \n",
       "0          33279.83            expensive                   373.83  \n",
       "1            559.89           reasonable                     1.72  \n",
       "2          19056.13            expensive                   181.57  \n",
       "3          11372.23            expensive                   779.41  \n",
       "4            360.00           reasonable                     0.01  \n",
       "\n",
       "[5 rows x 27 columns]"
      ],
      "text/html": [
       "<div>\n",
       "<style scoped>\n",
       "    .dataframe tbody tr th:only-of-type {\n",
       "        vertical-align: middle;\n",
       "    }\n",
       "\n",
       "    .dataframe tbody tr th {\n",
       "        vertical-align: top;\n",
       "    }\n",
       "\n",
       "    .dataframe thead th {\n",
       "        text-align: right;\n",
       "    }\n",
       "</style>\n",
       "<table border=\"1\" class=\"dataframe\">\n",
       "  <thead>\n",
       "    <tr style=\"text-align: right;\">\n",
       "      <th></th>\n",
       "      <th>id</th>\n",
       "      <th>country</th>\n",
       "      <th>managed_by</th>\n",
       "      <th>fulfill_via</th>\n",
       "      <th>vendor_inco_term</th>\n",
       "      <th>shipment_mode</th>\n",
       "      <th>late_delivery</th>\n",
       "      <th>late</th>\n",
       "      <th>product_group</th>\n",
       "      <th>sub_classification</th>\n",
       "      <th>...</th>\n",
       "      <th>line_item_quantity</th>\n",
       "      <th>line_item_value</th>\n",
       "      <th>pack_price</th>\n",
       "      <th>unit_price</th>\n",
       "      <th>manufacturing_site</th>\n",
       "      <th>first_line_designation</th>\n",
       "      <th>weight_kilograms</th>\n",
       "      <th>freight_cost_usd</th>\n",
       "      <th>freight_cost_groups</th>\n",
       "      <th>line_item_insurance_usd</th>\n",
       "    </tr>\n",
       "  </thead>\n",
       "  <tbody>\n",
       "    <tr>\n",
       "      <th>0</th>\n",
       "      <td>36203.0</td>\n",
       "      <td>Nigeria</td>\n",
       "      <td>PMO - US</td>\n",
       "      <td>Direct Drop</td>\n",
       "      <td>EXW</td>\n",
       "      <td>Air</td>\n",
       "      <td>1.0</td>\n",
       "      <td>Yes</td>\n",
       "      <td>HRDT</td>\n",
       "      <td>HIV test</td>\n",
       "      <td>...</td>\n",
       "      <td>2996.0</td>\n",
       "      <td>266644.00</td>\n",
       "      <td>89.00</td>\n",
       "      <td>0.89</td>\n",
       "      <td>Alere Medical Co., Ltd.</td>\n",
       "      <td>Yes</td>\n",
       "      <td>1426.0</td>\n",
       "      <td>33279.83</td>\n",
       "      <td>expensive</td>\n",
       "      <td>373.83</td>\n",
       "    </tr>\n",
       "    <tr>\n",
       "      <th>1</th>\n",
       "      <td>30998.0</td>\n",
       "      <td>Botswana</td>\n",
       "      <td>PMO - US</td>\n",
       "      <td>Direct Drop</td>\n",
       "      <td>EXW</td>\n",
       "      <td>Air</td>\n",
       "      <td>0.0</td>\n",
       "      <td>No</td>\n",
       "      <td>HRDT</td>\n",
       "      <td>HIV test</td>\n",
       "      <td>...</td>\n",
       "      <td>25.0</td>\n",
       "      <td>800.00</td>\n",
       "      <td>32.00</td>\n",
       "      <td>1.60</td>\n",
       "      <td>Trinity Biotech, Plc</td>\n",
       "      <td>Yes</td>\n",
       "      <td>10.0</td>\n",
       "      <td>559.89</td>\n",
       "      <td>reasonable</td>\n",
       "      <td>1.72</td>\n",
       "    </tr>\n",
       "    <tr>\n",
       "      <th>2</th>\n",
       "      <td>69871.0</td>\n",
       "      <td>Vietnam</td>\n",
       "      <td>PMO - US</td>\n",
       "      <td>Direct Drop</td>\n",
       "      <td>EXW</td>\n",
       "      <td>Air</td>\n",
       "      <td>0.0</td>\n",
       "      <td>No</td>\n",
       "      <td>ARV</td>\n",
       "      <td>Adult</td>\n",
       "      <td>...</td>\n",
       "      <td>22925.0</td>\n",
       "      <td>110040.00</td>\n",
       "      <td>4.80</td>\n",
       "      <td>0.08</td>\n",
       "      <td>Hetero Unit III Hyderabad IN</td>\n",
       "      <td>Yes</td>\n",
       "      <td>3723.0</td>\n",
       "      <td>19056.13</td>\n",
       "      <td>expensive</td>\n",
       "      <td>181.57</td>\n",
       "    </tr>\n",
       "    <tr>\n",
       "      <th>3</th>\n",
       "      <td>17648.0</td>\n",
       "      <td>South Africa</td>\n",
       "      <td>PMO - US</td>\n",
       "      <td>Direct Drop</td>\n",
       "      <td>DDP</td>\n",
       "      <td>Ocean</td>\n",
       "      <td>0.0</td>\n",
       "      <td>No</td>\n",
       "      <td>ARV</td>\n",
       "      <td>Adult</td>\n",
       "      <td>...</td>\n",
       "      <td>152535.0</td>\n",
       "      <td>361507.95</td>\n",
       "      <td>2.37</td>\n",
       "      <td>0.04</td>\n",
       "      <td>Aurobindo Unit III, India</td>\n",
       "      <td>Yes</td>\n",
       "      <td>7698.0</td>\n",
       "      <td>11372.23</td>\n",
       "      <td>expensive</td>\n",
       "      <td>779.41</td>\n",
       "    </tr>\n",
       "    <tr>\n",
       "      <th>4</th>\n",
       "      <td>5647.0</td>\n",
       "      <td>Uganda</td>\n",
       "      <td>PMO - US</td>\n",
       "      <td>Direct Drop</td>\n",
       "      <td>EXW</td>\n",
       "      <td>Air</td>\n",
       "      <td>0.0</td>\n",
       "      <td>No</td>\n",
       "      <td>HRDT</td>\n",
       "      <td>HIV test - Ancillary</td>\n",
       "      <td>...</td>\n",
       "      <td>850.0</td>\n",
       "      <td>8.50</td>\n",
       "      <td>0.01</td>\n",
       "      <td>0.00</td>\n",
       "      <td>Inverness Japan</td>\n",
       "      <td>Yes</td>\n",
       "      <td>56.0</td>\n",
       "      <td>360.00</td>\n",
       "      <td>reasonable</td>\n",
       "      <td>0.01</td>\n",
       "    </tr>\n",
       "  </tbody>\n",
       "</table>\n",
       "<p>5 rows × 27 columns</p>\n",
       "</div>"
      ]
     },
     "execution_count": 10,
     "metadata": {},
     "output_type": "execute_result"
    }
   ],
   "execution_count": 10
  },
  {
   "metadata": {
    "ExecuteTime": {
     "end_time": "2025-06-27T18:56:48.710646Z",
     "start_time": "2025-06-27T18:56:48.703646Z"
    }
   },
   "cell_type": "code",
   "source": [
    "#1. Hypothesize that the proportion of late shipments is 6%.\n",
    "\n",
    "p_o = 6/100"
   ],
   "id": "b0afdf9b7ce7f989",
   "outputs": [],
   "execution_count": 11
  },
  {
   "metadata": {
    "ExecuteTime": {
     "end_time": "2025-06-27T18:56:48.759342Z",
     "start_time": "2025-06-27T18:56:48.749040Z"
    }
   },
   "cell_type": "code",
   "source": [
    "#2. Calculate the sample proportion of shipments where late equals \"Yes\".\n",
    "\n",
    "p_hat = (late['late']== 'Yes').mean()\n",
    "print(p_hat)\n"
   ],
   "id": "f4fc1123e367a0f1",
   "outputs": [
    {
     "name": "stdout",
     "output_type": "stream",
     "text": [
      "0.061\n"
     ]
    }
   ],
   "execution_count": 12
  },
  {
   "metadata": {
    "ExecuteTime": {
     "end_time": "2025-06-27T18:56:48.801593Z",
     "start_time": "2025-06-27T18:56:48.791963Z"
    }
   },
   "cell_type": "code",
   "source": [
    "#3. Calculate the number of observations in the sample.\n",
    "\n",
    "n = len(late)\n",
    "print(n)"
   ],
   "id": "5569921d6c1f2a9e",
   "outputs": [
    {
     "name": "stdout",
     "output_type": "stream",
     "text": [
      "1000\n"
     ]
    }
   ],
   "execution_count": 13
  },
  {
   "metadata": {
    "ExecuteTime": {
     "end_time": "2025-06-27T18:56:48.841937Z",
     "start_time": "2025-06-27T18:56:48.830756Z"
    }
   },
   "cell_type": "code",
   "source": [
    "#Calculating Stanadard Error\n",
    "\n",
    "std_err = np.sqrt((p_o * (1-p_hat))/n)\n",
    "print(std_err)\n"
   ],
   "id": "8d3305e758c49707",
   "outputs": [
    {
     "name": "stdout",
     "output_type": "stream",
     "text": [
      "0.007505997601918082\n"
     ]
    }
   ],
   "execution_count": 14
  },
  {
   "metadata": {
    "ExecuteTime": {
     "end_time": "2025-06-27T18:56:48.890322Z",
     "start_time": "2025-06-27T18:56:48.883827Z"
    }
   },
   "cell_type": "code",
   "source": [
    "#4a. Calculate the numerator z-score.\n",
    "\n",
    "numerator = p_hat -  p_o\n",
    "print(numerator)"
   ],
   "id": "1bc74e012b89bb10",
   "outputs": [
    {
     "name": "stdout",
     "output_type": "stream",
     "text": [
      "0.0010000000000000009\n"
     ]
    }
   ],
   "execution_count": 15
  },
  {
   "metadata": {
    "ExecuteTime": {
     "end_time": "2025-06-27T18:56:48.928447Z",
     "start_time": "2025-06-27T18:56:48.921108Z"
    }
   },
   "cell_type": "code",
   "source": [
    "#4b. Calculate the denominator z-score.\n",
    "\n",
    "denominator = std_err\n",
    "print(denominator)"
   ],
   "id": "ca2d365cfa31d50b",
   "outputs": [
    {
     "name": "stdout",
     "output_type": "stream",
     "text": [
      "0.007505997601918082\n"
     ]
    }
   ],
   "execution_count": 16
  },
  {
   "metadata": {
    "ExecuteTime": {
     "end_time": "2025-06-27T18:56:48.972934Z",
     "start_time": "2025-06-27T18:56:48.963444Z"
    }
   },
   "cell_type": "code",
   "source": [
    "#5. Calculate the z-score as the ratio of these numbers.\n",
    "\n",
    "z_score = numerator/denominator\n",
    "print(z_score)"
   ],
   "id": "86f9965d00df2da6",
   "outputs": [
    {
     "name": "stdout",
     "output_type": "stream",
     "text": [
      "0.13322679449623873\n"
     ]
    }
   ],
   "execution_count": 17
  },
  {
   "metadata": {
    "ExecuteTime": {
     "end_time": "2025-06-27T18:56:49.018503Z",
     "start_time": "2025-06-27T18:56:49.009639Z"
    }
   },
   "cell_type": "code",
   "source": [
    "# 6. Transform the z-score into a p-value, remembering that this is a \"greater than\" alternative hypothesis.\n",
    "\n",
    "p_value = 1-norm.cdf(z_score)\n",
    "print(p_value)"
   ],
   "id": "e967a9532cb9e8f8",
   "outputs": [
    {
     "name": "stdout",
     "output_type": "stream",
     "text": [
      "0.4470070103932179\n"
     ]
    }
   ],
   "execution_count": 18
  },
  {
   "metadata": {},
   "cell_type": "markdown",
   "source": [
    "proportion of late shipments for that group, are\n",
    "\n",
    "H₀: late (expensive) - late(reasonable) = 0\n",
    "Hₐ: late (expensive) - late(reasonable) > 0"
   ],
   "id": "622ff184b189ad3d"
  },
  {
   "metadata": {},
   "cell_type": "markdown",
   "source": "Test of two proportions",
   "id": "1225df473ca60c6d"
  },
  {
   "metadata": {},
   "cell_type": "markdown",
   "source": [
    "You may wonder if the amount paid for freight affects whether or not the shipment was late. Recall that in the late_shipments dataset, whether or not the shipment was late is stored in the late column. Freight costs are stored in the freight_cost_group column, and the categories are \"expensive\" and \"reasonable\".\n",
    "\n",
    "The hypotheses to test, with \"late\" corresponding to the proportion of late shipments for that group, are\n",
    "\n",
    "proportion of late shipments for that group, are\n",
    "\n",
    "H₀: late (expensive) - late(reasonable) = 0\n",
    "\n",
    "\n",
    "\n",
    "Hₐ: late (expensive) - late(reasonable) > 0\n"
   ],
   "id": "d469d14ed21f18f5"
  },
  {
   "metadata": {
    "ExecuteTime": {
     "end_time": "2025-06-27T18:56:49.094120Z",
     "start_time": "2025-06-27T18:56:49.055112Z"
    }
   },
   "cell_type": "code",
   "source": [
    "p_hats = late.groupby('freight_cost_groups')['late'].value_counts(normalize = True)\n",
    "print(p_hats)\n"
   ],
   "id": "8a7b4fe75307f134",
   "outputs": [
    {
     "name": "stdout",
     "output_type": "stream",
     "text": [
      "freight_cost_groups  late\n",
      "expensive            No      0.920904\n",
      "                     Yes     0.079096\n",
      "reasonable           No      0.964835\n",
      "                     Yes     0.035165\n",
      "Name: proportion, dtype: float64\n"
     ]
    }
   ],
   "execution_count": 19
  },
  {
   "metadata": {
    "ExecuteTime": {
     "end_time": "2025-06-27T18:56:49.150602Z",
     "start_time": "2025-06-27T18:56:49.137624Z"
    }
   },
   "cell_type": "code",
   "source": [
    "n = late.groupby('freight_cost_groups')['late'].count()\n",
    "print(n)"
   ],
   "id": "2f3dbff3549fdda8",
   "outputs": [
    {
     "name": "stdout",
     "output_type": "stream",
     "text": [
      "freight_cost_groups\n",
      "expensive     531\n",
      "reasonable    455\n",
      "Name: late, dtype: int64\n"
     ]
    }
   ],
   "execution_count": 20
  },
  {
   "metadata": {
    "ExecuteTime": {
     "end_time": "2025-06-27T18:56:49.206612Z",
     "start_time": "2025-06-27T18:56:49.200977Z"
    }
   },
   "cell_type": "code",
   "source": "#TO BE CONTINUED",
   "id": "4c39944d49878858",
   "outputs": [],
   "execution_count": 21
  },
  {
   "metadata": {},
   "cell_type": "markdown",
   "source": [
    "CHI SQUARED TEST OF INDEPENDENCE\n",
    "\n",
    "\n",
    "The chi-square independence test compares proportions of successes of one categorical variable across the categories of another categorical variable."
   ],
   "id": "334652473649df87"
  },
  {
   "metadata": {},
   "cell_type": "markdown",
   "source": [
    "Trade deals often use a form of business shorthand in order to specify the exact details of their contract. These are International Chamber of Commerce (ICC) international commercial terms, or incoterms for short.\n",
    "\n",
    "\n",
    "\n",
    "The late_shipments dataset includes a vendor_inco_term that describes the incoterms that applied to a given shipment. The choices are:\n",
    "\n",
    "EXW: \"Ex works\". The buyer pays for transportation of the goods.\n",
    "\n",
    "\n",
    "CIP: \"Carriage and insurance paid to\". The seller pays for freight and insurance until the goods board a ship.\n",
    "\n",
    "\n",
    "DDP: \"Delivered duty paid\". The seller pays for transportation of the goods until they reach a destination port.\n",
    "\n",
    "\n",
    "FCA: \"Free carrier\". The seller pays for transportation of the goods.\n",
    "\n",
    "\n",
    "Perhaps the incoterms affect whether or not the freight costs are expensive. Test these hypotheses with a significance level of 0.01.\n",
    "\n",
    "\n",
    "H₀: vendor_inco_term and freight_cost_group are independent.\n",
    "\n",
    "\n",
    "Hₐ: vendor_inco_term and freight_cost_group are associated."
   ],
   "id": "fd3db200fc893311"
  },
  {
   "metadata": {
    "ExecuteTime": {
     "end_time": "2025-06-27T18:56:49.248908Z",
     "start_time": "2025-06-27T18:56:49.227754Z"
    }
   },
   "cell_type": "code",
   "source": [
    "#1. Calculate the proportion of freight_cost_group in late_shipments grouped by vendor_inco_term.\n",
    "\n",
    "freight_prop = late.groupby('vendor_inco_term')['freight_cost_groups'].value_counts(normalize = True)\n",
    "print(freight_prop)"
   ],
   "id": "8d98e4ef0974aa5c",
   "outputs": [
    {
     "name": "stdout",
     "output_type": "stream",
     "text": [
      "vendor_inco_term  freight_cost_groups\n",
      "CIP               reasonable             0.680000\n",
      "                  expensive              0.320000\n",
      "DDP               expensive              0.550000\n",
      "                  reasonable             0.450000\n",
      "DDU               reasonable             1.000000\n",
      "EXW               expensive              0.583448\n",
      "                  reasonable             0.416552\n",
      "FCA               reasonable             0.663636\n",
      "                  expensive              0.336364\n",
      "Name: proportion, dtype: float64\n"
     ]
    }
   ],
   "execution_count": 22
  },
  {
   "metadata": {
    "ExecuteTime": {
     "end_time": "2025-06-27T18:56:49.313875Z",
     "start_time": "2025-06-27T18:56:49.281426Z"
    }
   },
   "cell_type": "code",
   "source": [
    "#2. Unstack the .value_counts() result to be in wide format instead of long.\n",
    "\n",
    "freight_prop_wide = freight_prop.unstack()\n",
    "print(freight_prop_wide)"
   ],
   "id": "bc370339317ed7ff",
   "outputs": [
    {
     "name": "stdout",
     "output_type": "stream",
     "text": [
      "freight_cost_groups  expensive  reasonable\n",
      "vendor_inco_term                          \n",
      "CIP                   0.320000    0.680000\n",
      "DDP                   0.550000    0.450000\n",
      "DDU                        NaN    1.000000\n",
      "EXW                   0.583448    0.416552\n",
      "FCA                   0.336364    0.663636\n"
     ]
    }
   ],
   "execution_count": 23
  },
  {
   "metadata": {
    "ExecuteTime": {
     "end_time": "2025-06-27T18:56:49.666541Z",
     "start_time": "2025-06-27T18:56:49.337413Z"
    }
   },
   "cell_type": "code",
   "source": [
    "#3. Create a proportional stacked bar plot with bars filled based on freight_cost_group across the levels of vendor_inco_term\n",
    "\n",
    "freight_prop_wide.plot(kind='bar', stacked=True)\n",
    "plt.show()\n",
    "\n",
    "\n"
   ],
   "id": "93ac451b7dd132c9",
   "outputs": [
    {
     "data": {
      "text/plain": [
       "<Figure size 640x480 with 1 Axes>"
      ],
      "image/png": "[encoded data removed]"
     },
     "metadata": {},
     "output_type": "display_data"
    }
   ],
   "execution_count": 24
  },
  {
   "metadata": {
    "ExecuteTime": {
     "end_time": "2025-06-27T18:56:49.741725Z",
     "start_time": "2025-06-27T18:56:49.700263Z"
    }
   },
   "cell_type": "code",
   "source": [
    "#4. Perform a chi-square test of independence on freight_cost_group and vendor_inco_term in the late_shipments dataset\n",
    "\n",
    "expected, observed, stats = pingouin.chi2_independence(data=late, x='vendor_inco_term', y='freight_cost_groups')\n",
    "print(stats[stats['test']=='pearson'])"
   ],
   "id": "dcf9f0789b426bca",
   "outputs": [
    {
     "name": "stdout",
     "output_type": "stream",
     "text": [
      "      test  lambda       chi2  dof          pval    cramer     power\n",
      "0  pearson     1.0  34.805072  4.0  5.093922e-07  0.186561  0.999235\n"
     ]
    }
   ],
   "execution_count": 25
  },
  {
   "metadata": {},
   "cell_type": "markdown",
   "source": "Testing sample size",
   "id": "edf389d5263cf0f3"
  },
  {
   "metadata": {},
   "cell_type": "markdown",
   "source": [
    "In order to conduct a hypothesis test and be sure that the result is fair, a sample must meet three requirements: it is a random sample of the population, the observations are independent, and there are enough observations. Of these, only the last condition is easily testable with code.\n",
    "\n",
    "\n",
    "\n",
    "The minimum sample size depends on the type of hypothesis tests you want to perform."
   ],
   "id": "bbd3d21de570b585"
  },
  {
   "metadata": {
    "ExecuteTime": {
     "end_time": "2025-06-27T19:03:50.103065Z",
     "start_time": "2025-06-27T19:03:50.095804Z"
    }
   },
   "cell_type": "code",
   "source": [
    "#1. Get the count of each value in the freight_cost_group column of late_shipments.\n",
    "counts = late['freight_cost_groups'].value_counts()\n",
    "print(counts)"
   ],
   "id": "c8e9bab20645730a",
   "outputs": [
    {
     "name": "stdout",
     "output_type": "stream",
     "text": [
      "freight_cost_groups\n",
      "expensive     531\n",
      "reasonable    455\n",
      "Name: count, dtype: int64\n"
     ]
    }
   ],
   "execution_count": 27
  },
  {
   "metadata": {
    "ExecuteTime": {
     "end_time": "2025-06-27T19:04:43.321100Z",
     "start_time": "2025-06-27T19:04:43.313105Z"
    }
   },
   "cell_type": "code",
   "source": [
    "#2. Insert a suitable number to inspect whether the counts are \"big enough\" for a two sample t-test.\n",
    "\n",
    "print((counts >= 30).all())"
   ],
   "id": "abf740e91f48d2ef",
   "outputs": [
    {
     "name": "stdout",
     "output_type": "stream",
     "text": [
      "True\n"
     ]
    }
   ],
   "execution_count": 29
  },
  {
   "metadata": {
    "ExecuteTime": {
     "end_time": "2025-06-27T19:07:51.856107Z",
     "start_time": "2025-06-27T19:07:51.842789Z"
    }
   },
   "cell_type": "code",
   "source": [
    "#3. Get the count of each value in the late column of late_shipments.\n",
    "\n",
    "late_count = late['late'].value_counts()\n",
    "print(late_count)"
   ],
   "id": "d43c55a20af6e9dd",
   "outputs": [
    {
     "name": "stdout",
     "output_type": "stream",
     "text": [
      "late\n",
      "No     939\n",
      "Yes     61\n",
      "Name: count, dtype: int64\n"
     ]
    }
   ],
   "execution_count": 31
  },
  {
   "metadata": {
    "ExecuteTime": {
     "end_time": "2025-06-27T19:09:03.825172Z",
     "start_time": "2025-06-27T19:09:03.818839Z"
    }
   },
   "cell_type": "code",
   "source": [
    "#4. Insert a suitable number to inspect whether the counts are \"big enough\" for a one sample proportion test.\n",
    "\n",
    "print((late_count >= 30).all())"
   ],
   "id": "b9faedf97c1c4b17",
   "outputs": [
    {
     "name": "stdout",
     "output_type": "stream",
     "text": [
      "True\n"
     ]
    }
   ],
   "execution_count": 32
  },
  {
   "metadata": {
    "ExecuteTime": {
     "end_time": "2025-06-27T19:11:15.237745Z",
     "start_time": "2025-06-27T19:11:15.226101Z"
    }
   },
   "cell_type": "code",
   "source": [
    "#5. Get the count of each value in the freight_cost_group column of late_shipments grouped by vendor_inco_term.\n",
    "\n",
    "freight_count = late.groupby('vendor_inco_term')['freight_cost_groups'].value_counts()\n",
    "print(freight_count)"
   ],
   "id": "a1249200fb901232",
   "outputs": [
    {
     "name": "stdout",
     "output_type": "stream",
     "text": [
      "vendor_inco_term  freight_cost_groups\n",
      "CIP               reasonable              34\n",
      "                  expensive               16\n",
      "DDP               expensive               55\n",
      "                  reasonable              45\n",
      "DDU               reasonable               1\n",
      "EXW               expensive              423\n",
      "                  reasonable             302\n",
      "FCA               reasonable              73\n",
      "                  expensive               37\n",
      "Name: count, dtype: int64\n"
     ]
    }
   ],
   "execution_count": 34
  },
  {
   "metadata": {
    "ExecuteTime": {
     "end_time": "2025-06-27T19:12:27.888873Z",
     "start_time": "2025-06-27T19:12:27.881508Z"
    }
   },
   "cell_type": "code",
   "source": [
    "#6. Insert a suitable number to inspect whether the counts are \"big enough\" for a chi-square independence test.\n",
    "\n",
    "print((freight_count >= 5).all())"
   ],
   "id": "6b9a20f261ea101d",
   "outputs": [
    {
     "name": "stdout",
     "output_type": "stream",
     "text": [
      "False\n"
     ]
    }
   ],
   "execution_count": 35
  },
  {
   "metadata": {
    "ExecuteTime": {
     "end_time": "2025-06-27T19:16:45.057958Z",
     "start_time": "2025-06-27T19:16:45.008495Z"
    }
   },
   "cell_type": "code",
   "source": [
    "#7. 7. Get the count of each value in the shipment_mode column of late_shipments.\n",
    "\n",
    "mode_count = late['shipment_mode'].value_counts()\n",
    "print(mode_count)"
   ],
   "id": "16ef9fce61bf9766",
   "outputs": [
    {
     "name": "stdout",
     "output_type": "stream",
     "text": [
      "shipment_mode\n",
      "Air            906\n",
      "Ocean           88\n",
      "Air Charter      6\n",
      "Name: count, dtype: int64\n"
     ]
    }
   ],
   "execution_count": 36
  },
  {
   "metadata": {
    "ExecuteTime": {
     "end_time": "2025-06-27T19:18:24.676943Z",
     "start_time": "2025-06-27T19:18:24.665594Z"
    }
   },
   "cell_type": "code",
   "source": [
    "#8. Insert a suitable number to inspect whether the counts are \"big enough\" for an ANOVA test.\n",
    "\n",
    "print((mode_count >= 30).all())"
   ],
   "id": "ff23b7c415fcc910",
   "outputs": [
    {
     "name": "stdout",
     "output_type": "stream",
     "text": [
      "False\n"
     ]
    }
   ],
   "execution_count": 37
  },
  {
   "metadata": {},
   "cell_type": "code",
   "outputs": [],
   "execution_count": null,
   "source": "",
   "id": "c7c39a69ae30884c"
  }
 ],
 "metadata": {
  "kernelspec": {
   "display_name": "Python 3",
   "language": "python",
   "name": "python3"
  },
  "language_info": {
   "codemirror_mode": {
    "name": "ipython",
    "version": 2
   },
   "file_extension": ".py",
   "mimetype": "text/x-python",
   "name": "python",
   "nbconvert_exporter": "python",
   "pygments_lexer": "ipython2",
   "version": "2.7.6"
  }
 },
 "nbformat": 4,
 "nbformat_minor": 5
}
