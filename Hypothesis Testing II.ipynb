{
 "cells": [
  {
   "cell_type": "code",
   "id": "initial_id",
   "metadata": {
    "collapsed": true,
    "ExecuteTime": {
     "end_time": "2025-06-24T23:43:50.553425Z",
     "start_time": "2025-06-24T23:43:48.475694Z"
    }
   },
   "source": [
    "import numpy as np\n",
    "import pandas as pd\n",
    "import matplotlib.pyplot as plt\n",
    "import seaborn as sns\n",
    "from scipy.stats import norm\n",
    "from scipy.stats import t\n",
    "import pingouin\n",
    "import warnings\n",
    "warnings.simplefilter(\"ignore\")"
   ],
   "outputs": [],
   "execution_count": 19
  },
  {
   "metadata": {
    "ExecuteTime": {
     "end_time": "2025-06-24T23:34:16.668134Z",
     "start_time": "2025-06-24T23:34:16.650448Z"
    }
   },
   "cell_type": "code",
   "source": [
    "dem_data = pd.read_csv(\"C:/Users/Emigb/Documents/Data Science/datasets/dem_votes_potus_12_16.csv\")\n",
    "print(dem_data.head())"
   ],
   "id": "ee592c3d6153611d",
   "outputs": [
    {
     "name": "stdout",
     "output_type": "stream",
     "text": [
      "     state    county  dem_percent_12  dem_percent_16\n",
      "0  Alabama   Bullock       76.305900       74.946921\n",
      "1  Alabama   Chilton       19.453671       15.847352\n",
      "2  Alabama      Clay       26.673672       18.674517\n",
      "3  Alabama   Cullman       14.661752       10.028252\n",
      "4  Alabama  Escambia       36.915731       31.020546\n"
     ]
    }
   ],
   "execution_count": 7
  },
  {
   "metadata": {},
   "cell_type": "markdown",
   "source": [
    "Visualizing the difference\n",
    "\n",
    "\n",
    "\n",
    "Before you start running hypothesis tests, it's a great idea to perform some exploratory data analysis; that is, calculating summary statistics and visualizing distributions.\n",
    "\n",
    "Here, you'll look at the proportion of county-level votes for the Democratic candidate in 2012 and 2016, sample_dem_data. Since the counties are the same in both years, these samples are paired. The columns containing the samples are dem_percent_12 and dem_percent_16.\n"
   ],
   "id": "6866942a85b282d4"
  },
  {
   "metadata": {
    "ExecuteTime": {
     "end_time": "2025-06-24T23:36:16.878619Z",
     "start_time": "2025-06-24T23:36:16.864989Z"
    }
   },
   "cell_type": "code",
   "source": [
    "#1. Create a new diff column containing the percentage of votes for the democratic candidate in 2012 minus the percentage of votes for the democratic candidate in 2016.\n",
    "\n",
    "dem_data['diff'] = dem_data['dem_percent_12'] - dem_data['dem_percent_16']\n",
    "print(dem_data.head())"
   ],
   "id": "e018a7d4fc2a7e6d",
   "outputs": [
    {
     "name": "stdout",
     "output_type": "stream",
     "text": [
      "     state    county  dem_percent_12  dem_percent_16      diff\n",
      "0  Alabama   Bullock       76.305900       74.946921  1.358979\n",
      "1  Alabama   Chilton       19.453671       15.847352  3.606319\n",
      "2  Alabama      Clay       26.673672       18.674517  7.999155\n",
      "3  Alabama   Cullman       14.661752       10.028252  4.633500\n",
      "4  Alabama  Escambia       36.915731       31.020546  5.895185\n"
     ]
    }
   ],
   "execution_count": 11
  },
  {
   "metadata": {
    "ExecuteTime": {
     "end_time": "2025-06-24T23:37:33.741453Z",
     "start_time": "2025-06-24T23:37:33.732627Z"
    }
   },
   "cell_type": "code",
   "source": [
    "#2. Calculate the mean of the diff column as xbar_diff\n",
    "\n",
    "xbar_diff = dem_data['diff'].mean()\n",
    "print(xbar_diff)"
   ],
   "id": "1c9d56db462f1a7f",
   "outputs": [
    {
     "name": "stdout",
     "output_type": "stream",
     "text": [
      "6.829312660106834\n"
     ]
    }
   ],
   "execution_count": 15
  },
  {
   "metadata": {
    "ExecuteTime": {
     "end_time": "2025-06-24T23:51:32.404993Z",
     "start_time": "2025-06-24T23:51:32.382805Z"
    }
   },
   "cell_type": "code",
   "source": [
    "#3. Calculate the standard deviation of the diff column as s_diff\n",
    "\n",
    "s_diff = dem_data['diff'].std()\n",
    "print(s_diff)\n",
    "\n",
    "#Calculating the sample size of the diff column\n",
    "n_diff = len(dem_data['diff'])\n",
    "print(n_diff)"
   ],
   "id": "fcb56ae4ea929f2f",
   "outputs": [
    {
     "name": "stdout",
     "output_type": "stream",
     "text": [
      "5.040139140132317\n",
      "500\n"
     ]
    }
   ],
   "execution_count": 21
  },
  {
   "metadata": {
    "ExecuteTime": {
     "end_time": "2025-06-24T23:39:14.515597Z",
     "start_time": "2025-06-24T23:39:14.253165Z"
    }
   },
   "cell_type": "code",
   "source": [
    "#4. Plot a histogram of the diff column with 20 bins.\n",
    "\n",
    "plt.hist(dem_data['diff'], bins=20)\n",
    "plt.show()"
   ],
   "id": "cce584176c932b8b",
   "outputs": [
    {
     "data": {
      "text/plain": [
       "<Figure size 640x480 with 1 Axes>"
      ],
      "image/png": "[encoded data removed]"
     },
     "metadata": {},
     "output_type": "display_data"
    }
   ],
   "execution_count": 17
  },
  {
   "metadata": {},
   "cell_type": "markdown",
   "source": [
    "Using TTEST()\n",
    "\n",
    "\n",
    "\n",
    "\n",
    "Manually calculating test statistics and transforming them with a CDF to get a p-value is a lot of effort to compare two sample means. The comparison of two sample means is called a t-test, and the pingouin Python package has a .ttest() method to accomplish it. This method provides some flexibility in how you perform the test.\n",
    "\n",
    "\n",
    "\n",
    "\n",
    "\n",
    "H₀: The proportion of democratic votes in 2012 and 2016 were the same.\n",
    "\n",
    "\n",
    "Hₐ: The proportion of democratic votes in 2012 and 2016 were different."
   ],
   "id": "70b9524bcda286d4"
  },
  {
   "metadata": {
    "ExecuteTime": {
     "end_time": "2025-06-24T23:56:37.414967Z",
     "start_time": "2025-06-24T23:56:37.396508Z"
    }
   },
   "cell_type": "code",
   "source": [
    "#1. Conduct a t-test on the sample differences (the diff column of sample_dem_data), using an appropriate alternative hypothesis chosen from \"two-sided\", \"less\", and \"greater\".\n",
    "\n",
    "#Calculating t_stat\n",
    "t_stat = (xbar_diff - 0)/ np.sqrt(s_diff ** 2/n_diff)\n",
    "print(t_stat)\n",
    "\n",
    "\n",
    "p_value = pingouin.ttest(x=dem_data['diff'], y=0, alternative='two-sided')\n",
    "print(p_value)"
   ],
   "id": "a9c6e822510f7fe",
   "outputs": [
    {
     "name": "stdout",
     "output_type": "stream",
     "text": [
      "30.298384475151405\n",
      "                T  dof alternative          p-val         CI95%   cohen-d  \\\n",
      "T-test  30.298384  499   two-sided  3.600634e-115  [6.39, 7.27]  1.354985   \n",
      "\n",
      "              BF10 power  \n",
      "T-test  2.246e+111   NaN  \n"
     ]
    }
   ],
   "execution_count": 25
  },
  {
   "metadata": {
    "ExecuteTime": {
     "end_time": "2025-06-25T00:00:13.219041Z",
     "start_time": "2025-06-25T00:00:13.200156Z"
    }
   },
   "cell_type": "code",
   "source": [
    "#2. Conduct a paired test on the democratic votes in 2012 and 2016 (the dem_percent_12 and dem_percent_16 columns of sample_dem_data), using an appropriate alternative hypothesis.\n",
    "\n",
    "p_val = pingouin.ttest(x=dem_data['dem_percent_12'], y=dem_data['dem_percent_16'], paired=True, alternative='two-sided')\n",
    "print(p_val)"
   ],
   "id": "1487693881969cf4",
   "outputs": [
    {
     "name": "stdout",
     "output_type": "stream",
     "text": [
      "                T  dof alternative          p-val         CI95%   cohen-d  \\\n",
      "T-test  30.298384  499   two-sided  3.600634e-115  [6.39, 7.27]  0.454202   \n",
      "\n",
      "              BF10 power  \n",
      "T-test  2.246e+111   NaN  \n"
     ]
    }
   ],
   "execution_count": 29
  },
  {
   "metadata": {},
   "cell_type": "code",
   "outputs": [],
   "execution_count": null,
   "source": "",
   "id": "be2d2b48a68e87f"
  }
 ],
 "metadata": {
  "kernelspec": {
   "display_name": "Python 3",
   "language": "python",
   "name": "python3"
  },
  "language_info": {
   "codemirror_mode": {
    "name": "ipython",
    "version": 2
   },
   "file_extension": ".py",
   "mimetype": "text/x-python",
   "name": "python",
   "nbconvert_exporter": "python",
   "pygments_lexer": "ipython2",
   "version": "2.7.6"
  }
 },
 "nbformat": 4,
 "nbformat_minor": 5
}
