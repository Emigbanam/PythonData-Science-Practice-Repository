{
 "cells": [
  {
   "cell_type": "code",
   "id": "initial_id",
   "metadata": {
    "collapsed": true,
    "ExecuteTime": {
     "end_time": "2025-06-26T09:26:45.433625Z",
     "start_time": "2025-06-26T09:26:43.925472Z"
    }
   },
   "source": [
    "import numpy as np\n",
    "import pandas as pd\n",
    "import matplotlib.pyplot as plt\n",
    "import seaborn as sns\n",
    "from scipy.stats import norm\n",
    "from scipy.stats import t\n",
    "import pingouin\n",
    "import warnings\n",
    "warnings.simplefilter(\"ignore\")"
   ],
   "outputs": [],
   "execution_count": 3
  },
  {
   "metadata": {
    "ExecuteTime": {
     "end_time": "2025-06-26T09:26:45.513959Z",
     "start_time": "2025-06-26T09:26:45.452266Z"
    }
   },
   "cell_type": "code",
   "source": [
    "dem_data = pd.read_csv(\"C:/Users/Emigb/Documents/Data Science/datasets/dem_votes_potus_12_16.csv\")\n",
    "print(dem_data.head())"
   ],
   "id": "ee592c3d6153611d",
   "outputs": [
    {
     "name": "stdout",
     "output_type": "stream",
     "text": [
      "     state    county  dem_percent_12  dem_percent_16\n",
      "0  Alabama   Bullock       76.305900       74.946921\n",
      "1  Alabama   Chilton       19.453671       15.847352\n",
      "2  Alabama      Clay       26.673672       18.674517\n",
      "3  Alabama   Cullman       14.661752       10.028252\n",
      "4  Alabama  Escambia       36.915731       31.020546\n"
     ]
    }
   ],
   "execution_count": 4
  },
  {
   "metadata": {},
   "cell_type": "markdown",
   "source": [
    "Visualizing the difference\n",
    "\n",
    "\n",
    "\n",
    "Before you start running hypothesis tests, it's a great idea to perform some exploratory data analysis; that is, calculating summary statistics and visualizing distributions.\n",
    "\n",
    "Here, you'll look at the proportion of county-level votes for the Democratic candidate in 2012 and 2016, sample_dem_data. Since the counties are the same in both years, these samples are paired. The columns containing the samples are dem_percent_12 and dem_percent_16.\n"
   ],
   "id": "6866942a85b282d4"
  },
  {
   "metadata": {
    "ExecuteTime": {
     "end_time": "2025-06-26T09:26:45.545205Z",
     "start_time": "2025-06-26T09:26:45.528575Z"
    }
   },
   "cell_type": "code",
   "source": [
    "#1. Create a new diff column containing the percentage of votes for the democratic candidate in 2012 minus the percentage of votes for the democratic candidate in 2016.\n",
    "\n",
    "dem_data['diff'] = dem_data['dem_percent_12'] - dem_data['dem_percent_16']\n",
    "print(dem_data.head())"
   ],
   "id": "e018a7d4fc2a7e6d",
   "outputs": [
    {
     "name": "stdout",
     "output_type": "stream",
     "text": [
      "     state    county  dem_percent_12  dem_percent_16      diff\n",
      "0  Alabama   Bullock       76.305900       74.946921  1.358979\n",
      "1  Alabama   Chilton       19.453671       15.847352  3.606319\n",
      "2  Alabama      Clay       26.673672       18.674517  7.999155\n",
      "3  Alabama   Cullman       14.661752       10.028252  4.633500\n",
      "4  Alabama  Escambia       36.915731       31.020546  5.895185\n"
     ]
    }
   ],
   "execution_count": 5
  },
  {
   "metadata": {
    "ExecuteTime": {
     "end_time": "2025-06-26T09:26:45.574361Z",
     "start_time": "2025-06-26T09:26:45.566773Z"
    }
   },
   "cell_type": "code",
   "source": [
    "#2. Calculate the mean of the diff column as xbar_diff\n",
    "\n",
    "xbar_diff = dem_data['diff'].mean()\n",
    "print(xbar_diff)"
   ],
   "id": "1c9d56db462f1a7f",
   "outputs": [
    {
     "name": "stdout",
     "output_type": "stream",
     "text": [
      "6.829312660106834\n"
     ]
    }
   ],
   "execution_count": 6
  },
  {
   "metadata": {
    "ExecuteTime": {
     "end_time": "2025-06-26T09:26:45.656934Z",
     "start_time": "2025-06-26T09:26:45.648120Z"
    }
   },
   "cell_type": "code",
   "source": [
    "#3. Calculate the standard deviation of the diff column as s_diff\n",
    "\n",
    "s_diff = dem_data['diff'].std()\n",
    "print(s_diff)\n",
    "\n",
    "#Calculating the sample size of the diff column\n",
    "n_diff = len(dem_data['diff'])\n",
    "print(n_diff)"
   ],
   "id": "fcb56ae4ea929f2f",
   "outputs": [
    {
     "name": "stdout",
     "output_type": "stream",
     "text": [
      "5.040139140132317\n",
      "500\n"
     ]
    }
   ],
   "execution_count": 7
  },
  {
   "metadata": {
    "ExecuteTime": {
     "end_time": "2025-06-26T09:26:46.074809Z",
     "start_time": "2025-06-26T09:26:45.681938Z"
    }
   },
   "cell_type": "code",
   "source": [
    "#4. Plot a histogram of the diff column with 20 bins.\n",
    "\n",
    "plt.hist(dem_data['diff'], bins=20)\n",
    "plt.show()"
   ],
   "id": "cce584176c932b8b",
   "outputs": [
    {
     "data": {
      "text/plain": [
       "<Figure size 640x480 with 1 Axes>"
      ],
      "image/png": "[encoded data removed]"
     },
     "metadata": {},
     "output_type": "display_data"
    }
   ],
   "execution_count": 8
  },
  {
   "metadata": {},
   "cell_type": "markdown",
   "source": [
    "Using TTEST()\n",
    "\n",
    "\n",
    "\n",
    "\n",
    "Manually calculating test statistics and transforming them with a CDF to get a p-value is a lot of effort to compare two sample means. The comparison of two sample means is called a t-test, and the pingouin Python package has a .ttest() method to accomplish it. This method provides some flexibility in how you perform the test.\n",
    "\n",
    "\n",
    "\n",
    "\n",
    "\n",
    "H₀: The proportion of democratic votes in 2012 and 2016 were the same.\n",
    "\n",
    "\n",
    "Hₐ: The proportion of democratic votes in 2012 and 2016 were different."
   ],
   "id": "70b9524bcda286d4"
  },
  {
   "metadata": {
    "ExecuteTime": {
     "end_time": "2025-06-26T09:26:46.117355Z",
     "start_time": "2025-06-26T09:26:46.084805Z"
    }
   },
   "cell_type": "code",
   "source": [
    "#1. Conduct a t-test on the sample differences (the diff column of sample_dem_data), using an appropriate alternative hypothesis chosen from \"two-sided\", \"less\", and \"greater\".\n",
    "\n",
    "#Calculating t_stat\n",
    "t_stat = (xbar_diff - 0)/ np.sqrt(s_diff ** 2/n_diff)\n",
    "print(t_stat)\n",
    "\n",
    "\n",
    "p_value = pingouin.ttest(x=dem_data['diff'], y=0, alternative='two-sided')\n",
    "print(p_value)"
   ],
   "id": "a9c6e822510f7fe",
   "outputs": [
    {
     "name": "stdout",
     "output_type": "stream",
     "text": [
      "30.298384475151405\n",
      "                T  dof alternative          p-val         CI95%   cohen-d  \\\n",
      "T-test  30.298384  499   two-sided  3.600634e-115  [6.39, 7.27]  1.354985   \n",
      "\n",
      "              BF10 power  \n",
      "T-test  2.246e+111   NaN  \n"
     ]
    }
   ],
   "execution_count": 9
  },
  {
   "metadata": {
    "ExecuteTime": {
     "end_time": "2025-06-26T09:26:46.153844Z",
     "start_time": "2025-06-26T09:26:46.137098Z"
    }
   },
   "cell_type": "code",
   "source": [
    "#2. Conduct a paired test on the democratic votes in 2012 and 2016 (the dem_percent_12 and dem_percent_16 columns of sample_dem_data), using an appropriate alternative hypothesis.\n",
    "\n",
    "p_val = pingouin.ttest(x=dem_data['dem_percent_12'], y=dem_data['dem_percent_16'], paired=True, alternative='two-sided')\n",
    "print(p_val)"
   ],
   "id": "1487693881969cf4",
   "outputs": [
    {
     "name": "stdout",
     "output_type": "stream",
     "text": [
      "                T  dof alternative          p-val         CI95%   cohen-d  \\\n",
      "T-test  30.298384  499   two-sided  3.600634e-115  [6.39, 7.27]  0.454202   \n",
      "\n",
      "              BF10 power  \n",
      "T-test  2.246e+111   NaN  \n"
     ]
    }
   ],
   "execution_count": 10
  },
  {
   "metadata": {},
   "cell_type": "markdown",
   "source": "TESTS FOR SINGLE PROPORTION",
   "id": "3c0a320ea31f5134"
  },
  {
   "metadata": {},
   "cell_type": "markdown",
   "source": "An alternative is to use an equation for the standard error based on the sample proportion, hypothesized proportion, and sample size.",
   "id": "d50e4d7fcdbb5608"
  },
  {
   "metadata": {
    "ExecuteTime": {
     "end_time": "2025-06-26T09:26:46.210981Z",
     "start_time": "2025-06-26T09:26:46.179056Z"
    }
   },
   "cell_type": "code",
   "source": [
    "late = pd.read_csv(\"C:/Users/Emigb/Documents/Data Science/datasets/late_shipments.csv\")\n",
    "print(late.head())"
   ],
   "id": "bf94cbc1d5c11dd0",
   "outputs": [
    {
     "name": "stdout",
     "output_type": "stream",
     "text": [
      "        id       country managed_by  fulfill_via vendor_inco_term  \\\n",
      "0  36203.0       Nigeria   PMO - US  Direct Drop              EXW   \n",
      "1  30998.0      Botswana   PMO - US  Direct Drop              EXW   \n",
      "2  69871.0       Vietnam   PMO - US  Direct Drop              EXW   \n",
      "3  17648.0  South Africa   PMO - US  Direct Drop              DDP   \n",
      "4   5647.0        Uganda   PMO - US  Direct Drop              EXW   \n",
      "\n",
      "  shipment_mode  late_delivery late product_group    sub_classification  ...  \\\n",
      "0           Air            1.0  Yes          HRDT              HIV test  ...   \n",
      "1           Air            0.0   No          HRDT              HIV test  ...   \n",
      "2           Air            0.0   No           ARV                 Adult  ...   \n",
      "3         Ocean            0.0   No           ARV                 Adult  ...   \n",
      "4           Air            0.0   No          HRDT  HIV test - Ancillary  ...   \n",
      "\n",
      "  line_item_quantity line_item_value pack_price unit_price  \\\n",
      "0             2996.0       266644.00      89.00       0.89   \n",
      "1               25.0          800.00      32.00       1.60   \n",
      "2            22925.0       110040.00       4.80       0.08   \n",
      "3           152535.0       361507.95       2.37       0.04   \n",
      "4              850.0            8.50       0.01       0.00   \n",
      "\n",
      "             manufacturing_site first_line_designation  weight_kilograms  \\\n",
      "0       Alere Medical Co., Ltd.                    Yes            1426.0   \n",
      "1          Trinity Biotech, Plc                    Yes              10.0   \n",
      "2  Hetero Unit III Hyderabad IN                    Yes            3723.0   \n",
      "3     Aurobindo Unit III, India                    Yes            7698.0   \n",
      "4               Inverness Japan                    Yes              56.0   \n",
      "\n",
      "   freight_cost_usd  freight_cost_groups  line_item_insurance_usd  \n",
      "0          33279.83            expensive                   373.83  \n",
      "1            559.89           reasonable                     1.72  \n",
      "2          19056.13            expensive                   181.57  \n",
      "3          11372.23            expensive                   779.41  \n",
      "4            360.00           reasonable                     0.01  \n",
      "\n",
      "[5 rows x 27 columns]\n"
     ]
    }
   ],
   "execution_count": 11
  },
  {
   "metadata": {
    "ExecuteTime": {
     "end_time": "2025-06-26T09:26:46.228702Z",
     "start_time": "2025-06-26T09:26:46.222362Z"
    }
   },
   "cell_type": "code",
   "source": [
    "#1. Hypothesize that the proportion of late shipments is 6%.\n",
    "\n",
    "p_o = 6/100"
   ],
   "id": "b0afdf9b7ce7f989",
   "outputs": [],
   "execution_count": 12
  },
  {
   "metadata": {
    "ExecuteTime": {
     "end_time": "2025-06-26T09:26:46.262519Z",
     "start_time": "2025-06-26T09:26:46.251047Z"
    }
   },
   "cell_type": "code",
   "source": [
    "#2. Calculate the sample proportion of shipments where late equals \"Yes\".\n",
    "\n",
    "p_hat = (late['late']== 'Yes').mean()\n",
    "print(p_hat)\n"
   ],
   "id": "f4fc1123e367a0f1",
   "outputs": [
    {
     "name": "stdout",
     "output_type": "stream",
     "text": [
      "0.061\n"
     ]
    }
   ],
   "execution_count": 13
  },
  {
   "metadata": {
    "ExecuteTime": {
     "end_time": "2025-06-26T09:26:46.321460Z",
     "start_time": "2025-06-26T09:26:46.313242Z"
    }
   },
   "cell_type": "code",
   "source": [
    "#3. Calculate the number of observations in the sample.\n",
    "\n",
    "n = len(late)\n",
    "print(n)"
   ],
   "id": "5569921d6c1f2a9e",
   "outputs": [
    {
     "name": "stdout",
     "output_type": "stream",
     "text": [
      "1000\n"
     ]
    }
   ],
   "execution_count": 14
  },
  {
   "metadata": {
    "ExecuteTime": {
     "end_time": "2025-06-26T09:26:46.376749Z",
     "start_time": "2025-06-26T09:26:46.369494Z"
    }
   },
   "cell_type": "code",
   "source": [
    "#Calculating Stanadard Error\n",
    "\n",
    "std_err = np.sqrt((p_o * (1-p_hat))/n)\n",
    "print(std_err)\n"
   ],
   "id": "8d3305e758c49707",
   "outputs": [
    {
     "name": "stdout",
     "output_type": "stream",
     "text": [
      "0.007505997601918082\n"
     ]
    }
   ],
   "execution_count": 15
  },
  {
   "metadata": {
    "ExecuteTime": {
     "end_time": "2025-06-26T09:26:46.403369Z",
     "start_time": "2025-06-26T09:26:46.398163Z"
    }
   },
   "cell_type": "code",
   "source": [
    "#4a. Calculate the numerator z-score.\n",
    "\n",
    "numerator = p_hat -  p_o\n",
    "print(numerator)"
   ],
   "id": "1bc74e012b89bb10",
   "outputs": [
    {
     "name": "stdout",
     "output_type": "stream",
     "text": [
      "0.0010000000000000009\n"
     ]
    }
   ],
   "execution_count": 16
  },
  {
   "metadata": {
    "ExecuteTime": {
     "end_time": "2025-06-26T09:26:46.428530Z",
     "start_time": "2025-06-26T09:26:46.422003Z"
    }
   },
   "cell_type": "code",
   "source": [
    "#4b. Calculate the denominator z-score.\n",
    "\n",
    "denominator = std_err\n",
    "print(denominator)"
   ],
   "id": "ca2d365cfa31d50b",
   "outputs": [
    {
     "name": "stdout",
     "output_type": "stream",
     "text": [
      "0.007505997601918082\n"
     ]
    }
   ],
   "execution_count": 17
  },
  {
   "metadata": {
    "ExecuteTime": {
     "end_time": "2025-06-26T09:26:46.454017Z",
     "start_time": "2025-06-26T09:26:46.448095Z"
    }
   },
   "cell_type": "code",
   "source": [
    "#5. Calculate the z-score as the ratio of these numbers.\n",
    "\n",
    "z_score = numerator/denominator\n",
    "print(z_score)"
   ],
   "id": "86f9965d00df2da6",
   "outputs": [
    {
     "name": "stdout",
     "output_type": "stream",
     "text": [
      "0.13322679449623873\n"
     ]
    }
   ],
   "execution_count": 18
  },
  {
   "metadata": {
    "ExecuteTime": {
     "end_time": "2025-06-26T09:26:46.485220Z",
     "start_time": "2025-06-26T09:26:46.473115Z"
    }
   },
   "cell_type": "code",
   "source": [
    "# 6. Transform the z-score into a p-value, remembering that this is a \"greater than\" alternative hypothesis.\n",
    "\n",
    "p_value = 1-norm.cdf(z_score)\n",
    "print(p_value)"
   ],
   "id": "e967a9532cb9e8f8",
   "outputs": [
    {
     "name": "stdout",
     "output_type": "stream",
     "text": [
      "0.4470070103932179\n"
     ]
    }
   ],
   "execution_count": 19
  },
  {
   "metadata": {},
   "cell_type": "markdown",
   "source": [
    "proportion of late shipments for that group, are\n",
    "\n",
    "H₀: late (expensive) - late(reasonable) = 0\n",
    "Hₐ: late (expensive) - late(reasonable) > 0"
   ],
   "id": "622ff184b189ad3d"
  },
  {
   "metadata": {},
   "cell_type": "markdown",
   "source": "Test of two proportions",
   "id": "1225df473ca60c6d"
  },
  {
   "metadata": {},
   "cell_type": "markdown",
   "source": [
    "You may wonder if the amount paid for freight affects whether or not the shipment was late. Recall that in the late_shipments dataset, whether or not the shipment was late is stored in the late column. Freight costs are stored in the freight_cost_group column, and the categories are \"expensive\" and \"reasonable\".\n",
    "\n",
    "The hypotheses to test, with \"late\" corresponding to the proportion of late shipments for that group, are\n",
    "\n",
    "proportion of late shipments for that group, are\n",
    "\n",
    "H₀: late (expensive) - late(reasonable) = 0\n",
    "\n",
    "\n",
    "\n",
    "Hₐ: late (expensive) - late(reasonable) > 0\n"
   ],
   "id": "d469d14ed21f18f5"
  },
  {
   "metadata": {
    "ExecuteTime": {
     "end_time": "2025-06-26T09:31:44.306596Z",
     "start_time": "2025-06-26T09:31:44.289115Z"
    }
   },
   "cell_type": "code",
   "source": "",
   "id": "2f3dbff3549fdda8",
   "outputs": [],
   "execution_count": null
  },
  {
   "metadata": {},
   "cell_type": "code",
   "outputs": [],
   "execution_count": null,
   "source": "",
   "id": "4c39944d49878858"
  }
 ],
 "metadata": {
  "kernelspec": {
   "display_name": "Python 3",
   "language": "python",
   "name": "python3"
  },
  "language_info": {
   "codemirror_mode": {
    "name": "ipython",
    "version": 2
   },
   "file_extension": ".py",
   "mimetype": "text/x-python",
   "name": "python",
   "nbconvert_exporter": "python",
   "pygments_lexer": "ipython2",
   "version": "2.7.6"
  }
 },
 "nbformat": 4,
 "nbformat_minor": 5
}
