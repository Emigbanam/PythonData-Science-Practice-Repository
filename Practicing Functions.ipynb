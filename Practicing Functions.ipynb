{
 "cells": [
  {
   "metadata": {},
   "cell_type": "markdown",
   "source": "INTRODUCTION TO FUNCTIONS",
   "id": "ad3c1278be410743"
  },
  {
   "metadata": {
    "ExecuteTime": {
     "end_time": "2025-06-17T10:26:12.200767Z",
     "start_time": "2025-06-17T10:26:12.167148Z"
    }
   },
   "cell_type": "code",
   "source": [
    "def greet():\n",
    "    print('Hi there!')\n",
    "    print('Welcome aboard')\n",
    "\n",
    "greet()\n"
   ],
   "id": "7bd839c70b9e28bb",
   "outputs": [
    {
     "name": "stdout",
     "output_type": "stream",
     "text": [
      "Hi there!\n",
      "Welcome aboard\n"
     ]
    }
   ],
   "execution_count": 46
  },
  {
   "metadata": {},
   "cell_type": "markdown",
   "source": "ARGUMENTS",
   "id": "920b1087fbd298c5"
  },
  {
   "metadata": {
    "ExecuteTime": {
     "end_time": "2025-06-17T10:31:57.189584Z",
     "start_time": "2025-06-17T10:31:57.178067Z"
    }
   },
   "cell_type": "code",
   "source": [
    "def greet (first_name, last_name):\n",
    "    print(f'Hi {first_name} {last_name}')\n",
    "    print('Welcome Aboard')\n",
    "\n",
    "greet('John', 'Johnson')\n",
    "greet('Mike', 'Jack')"
   ],
   "id": "53e18f9459a8a821",
   "outputs": [
    {
     "name": "stdout",
     "output_type": "stream",
     "text": [
      "Hi John Johnson\n",
      "Welcome Aboard\n",
      "Hi Mike Jack\n",
      "Welcome Aboard\n"
     ]
    }
   ],
   "execution_count": 50
  },
  {
   "metadata": {},
   "cell_type": "markdown",
   "source": "RETURN FUNCTIONS",
   "id": "62ff947f8c8140ce"
  },
  {
   "metadata": {
    "ExecuteTime": {
     "end_time": "2025-06-17T07:57:14.331292Z",
     "start_time": "2025-06-17T07:57:14.310644Z"
    }
   },
   "cell_type": "code",
   "source": [
    "def greet(name):\n",
    "    print(f\"Hi {name}\")\n",
    "greet('Johnson')\n"
   ],
   "id": "53aaa41fce477249",
   "outputs": [
    {
     "name": "stdout",
     "output_type": "stream",
     "text": [
      "Hi Johnson\n"
     ]
    }
   ],
   "execution_count": 7
  },
  {
   "metadata": {
    "ExecuteTime": {
     "end_time": "2025-06-17T07:57:22.293748Z",
     "start_time": "2025-06-17T07:57:22.280932Z"
    }
   },
   "cell_type": "code",
   "source": [
    "def greet(name):\n",
    "    print(f\"Hi {name}\")\n",
    "\n",
    "print(greet('Johnson'))\n"
   ],
   "id": "fd888e0c4e201ba3",
   "outputs": [
    {
     "name": "stdout",
     "output_type": "stream",
     "text": [
      "Hi Johnson\n",
      "None\n"
     ]
    }
   ],
   "execution_count": 8
  },
  {
   "metadata": {
    "ExecuteTime": {
     "end_time": "2025-06-17T08:00:00.591884Z",
     "start_time": "2025-06-17T08:00:00.579481Z"
    }
   },
   "cell_type": "code",
   "source": [
    "def greet(name):\n",
    "    print(f\"Hi {name}\")\n",
    "    return '...'\n",
    "\n",
    "print(greet('Johnson'))\n"
   ],
   "id": "8aa0f97974f0ad33",
   "outputs": [
    {
     "name": "stdout",
     "output_type": "stream",
     "text": [
      "Hi Johnson\n",
      "...\n"
     ]
    }
   ],
   "execution_count": 11
  },
  {
   "metadata": {},
   "cell_type": "markdown",
   "source": "INCREMENT FUNCTIONS",
   "id": "acf5a6f0723a07cd"
  },
  {
   "metadata": {
    "ExecuteTime": {
     "end_time": "2025-06-17T08:02:49.166277Z",
     "start_time": "2025-06-17T08:02:49.093560Z"
    }
   },
   "cell_type": "code",
   "source": [
    "def increment(number, by):\n",
    "    return number + by\n",
    "increment(7,8)"
   ],
   "id": "dcd1577171d065f5",
   "outputs": [
    {
     "data": {
      "text/plain": [
       "15"
      ]
     },
     "execution_count": 12,
     "metadata": {},
     "output_type": "execute_result"
    }
   ],
   "execution_count": 12
  },
  {
   "metadata": {
    "ExecuteTime": {
     "end_time": "2025-06-17T08:03:22.011949Z",
     "start_time": "2025-06-17T08:03:22.000088Z"
    }
   },
   "cell_type": "code",
   "source": [
    "def increment(number, by):\n",
    "    return number + by\n",
    "result = increment(7,8)\n",
    "print(result)"
   ],
   "id": "d9f9cb06996b19cf",
   "outputs": [
    {
     "name": "stdout",
     "output_type": "stream",
     "text": [
      "15\n"
     ]
    }
   ],
   "execution_count": 13
  },
  {
   "metadata": {
    "ExecuteTime": {
     "end_time": "2025-06-17T08:04:13.357986Z",
     "start_time": "2025-06-17T08:04:13.349125Z"
    }
   },
   "cell_type": "code",
   "source": [
    "def increment(number, by):\n",
    "    return number + by\n",
    "print(increment(7,8))"
   ],
   "id": "cb658abd84a16baa",
   "outputs": [
    {
     "name": "stdout",
     "output_type": "stream",
     "text": [
      "15\n"
     ]
    }
   ],
   "execution_count": 14
  },
  {
   "metadata": {
    "ExecuteTime": {
     "end_time": "2025-06-17T09:17:22.460379Z",
     "start_time": "2025-06-17T09:17:22.362656Z"
    }
   },
   "cell_type": "code",
   "source": [
    "#Making The Code More Readable\n",
    "def increment(number, by):\n",
    "    return number + by\n",
    "print(increment(7, by=8))"
   ],
   "id": "b270f58e8b2341b2",
   "outputs": [
    {
     "name": "stdout",
     "output_type": "stream",
     "text": [
      "15\n"
     ]
    }
   ],
   "execution_count": 16
  },
  {
   "metadata": {},
   "cell_type": "markdown",
   "source": "DEFAULT ARGUMENTS",
   "id": "edc074f77ea502c3"
  },
  {
   "metadata": {
    "ExecuteTime": {
     "end_time": "2025-06-17T09:19:17.655856Z",
     "start_time": "2025-06-17T09:19:17.639495Z"
    }
   },
   "cell_type": "code",
   "source": [
    "#Seting an Default argument\n",
    "def increment(number, by=8):\n",
    "    return number + by\n",
    "print(increment(7))"
   ],
   "id": "236150f63007607c",
   "outputs": [
    {
     "name": "stdout",
     "output_type": "stream",
     "text": [
      "15\n"
     ]
    }
   ],
   "execution_count": 19
  },
  {
   "metadata": {
    "ExecuteTime": {
     "end_time": "2025-06-17T09:21:07.670287Z",
     "start_time": "2025-06-17T09:21:07.659760Z"
    }
   },
   "cell_type": "code",
   "source": [
    "#Seting an Default argument\n",
    "def increment(number, by=8):\n",
    "    return number + by\n",
    "print(increment(7, 9))\n",
    "\n",
    "\n",
    "#Note that all optional parameters(by) should come after the required parameter (number)"
   ],
   "id": "af42b1295a6024f",
   "outputs": [
    {
     "name": "stdout",
     "output_type": "stream",
     "text": [
      "16\n"
     ]
    }
   ],
   "execution_count": 24
  },
  {
   "metadata": {},
   "cell_type": "markdown",
   "source": "*args (Functions that take a variable number of arguments)",
   "id": "701e163a0ddf8599"
  },
  {
   "metadata": {
    "ExecuteTime": {
     "end_time": "2025-06-17T09:24:30.391124Z",
     "start_time": "2025-06-17T09:24:30.362150Z"
    }
   },
   "cell_type": "code",
   "source": [
    "def multiply(x,y):\n",
    "    return x * y\n",
    "multiply (2,3)"
   ],
   "id": "cbb9ef6270fdb08c",
   "outputs": [
    {
     "data": {
      "text/plain": [
       "6"
      ]
     },
     "execution_count": 25,
     "metadata": {},
     "output_type": "execute_result"
    }
   ],
   "execution_count": 25
  },
  {
   "metadata": {
    "ExecuteTime": {
     "end_time": "2025-06-17T09:26:45.097380Z",
     "start_time": "2025-06-17T09:26:45.082332Z"
    }
   },
   "cell_type": "code",
   "source": [
    "def multiply(*numbers):\n",
    "    print(numbers)\n",
    "multiply (1,2,3,4,5)\n",
    "#This allows you to write functions without specifying the number of parameters required, so that it allows multiple number of arguments."
   ],
   "id": "c113795cf85f04b",
   "outputs": [
    {
     "name": "stdout",
     "output_type": "stream",
     "text": [
      "(1, 2, 3, 4, 5)\n"
     ]
    }
   ],
   "execution_count": 28
  },
  {
   "metadata": {
    "ExecuteTime": {
     "end_time": "2025-06-17T09:28:47.168954Z",
     "start_time": "2025-06-17T09:28:47.156544Z"
    }
   },
   "cell_type": "code",
   "source": [
    "def multiply(*numbers):\n",
    "    for number in numbers:\n",
    "        print(number)\n",
    "multiply (1,2,3,4,5)"
   ],
   "id": "9bf538d4c0c85803",
   "outputs": [
    {
     "name": "stdout",
     "output_type": "stream",
     "text": [
      "1\n",
      "2\n",
      "3\n",
      "4\n",
      "5\n"
     ]
    }
   ],
   "execution_count": 29
  },
  {
   "metadata": {
    "ExecuteTime": {
     "end_time": "2025-06-17T09:32:45.671147Z",
     "start_time": "2025-06-17T09:32:45.650096Z"
    }
   },
   "cell_type": "code",
   "source": [
    "def multiply(*numbers):\n",
    "    total = 1\n",
    "    for number in numbers:\n",
    "        total = total * number\n",
    "    return total\n",
    "\n",
    "multiply (1,2,3,4,5)"
   ],
   "id": "90a425fd16bb4dc3",
   "outputs": [
    {
     "data": {
      "text/plain": [
       "120"
      ]
     },
     "execution_count": 32,
     "metadata": {},
     "output_type": "execute_result"
    }
   ],
   "execution_count": 32
  },
  {
   "metadata": {
    "ExecuteTime": {
     "end_time": "2025-06-17T09:34:02.676047Z",
     "start_time": "2025-06-17T09:34:02.660753Z"
    }
   },
   "cell_type": "code",
   "source": [
    "def addition(*numbers):\n",
    "    totals = 0\n",
    "    for number in numbers:\n",
    "        totals = totals + number\n",
    "    return totals\n",
    "\n",
    "addition (1,2,3,4,5)"
   ],
   "id": "3d0aefd71f18d1a1",
   "outputs": [
    {
     "data": {
      "text/plain": [
       "15"
      ]
     },
     "execution_count": 35,
     "metadata": {},
     "output_type": "execute_result"
    }
   ],
   "execution_count": 35
  },
  {
   "metadata": {},
   "cell_type": "markdown",
   "source": "**args (Functions that take a variable number of arguments, and allows you pass multiple keyword arguments or key value pairs)",
   "id": "e79a0d94668f5442"
  },
  {
   "metadata": {
    "ExecuteTime": {
     "end_time": "2025-06-17T09:55:11.382239Z",
     "start_time": "2025-06-17T09:55:11.372549Z"
    }
   },
   "cell_type": "code",
   "source": [
    "def save_user(**user):\n",
    "    print(user)\n",
    "\n",
    "save_user(id=1, name='Jake', age=24)\n",
    "\n",
    "#This function returns a dictionary"
   ],
   "id": "3b0ea5343c57f9d6",
   "outputs": [
    {
     "name": "stdout",
     "output_type": "stream",
     "text": [
      "{'id': 1, 'name': 'Jake', 'age': 24}\n"
     ]
    }
   ],
   "execution_count": 42
  },
  {
   "metadata": {
    "ExecuteTime": {
     "end_time": "2025-06-17T09:56:09.666277Z",
     "start_time": "2025-06-17T09:56:09.654753Z"
    }
   },
   "cell_type": "code",
   "source": [
    "def save_user(**user):\n",
    "    print(user['id'])\n",
    "\n",
    "save_user(id=1, name='Jake', age=24)\n",
    "#Key value pairs allow you to access the value of various keys in the dictionary."
   ],
   "id": "c80562f5610ed043",
   "outputs": [
    {
     "name": "stdout",
     "output_type": "stream",
     "text": [
      "1\n"
     ]
    }
   ],
   "execution_count": 43
  },
  {
   "metadata": {
    "ExecuteTime": {
     "end_time": "2025-06-17T09:56:11.056542Z",
     "start_time": "2025-06-17T09:56:11.042050Z"
    }
   },
   "cell_type": "code",
   "source": [
    "def save_user(**user):\n",
    "    print(user['name'])\n",
    "\n",
    "save_user(id=1, name='Jake', age=24)"
   ],
   "id": "fd348fb0c26c21c",
   "outputs": [
    {
     "name": "stdout",
     "output_type": "stream",
     "text": [
      "Jake\n"
     ]
    }
   ],
   "execution_count": 44
  },
  {
   "metadata": {},
   "cell_type": "code",
   "outputs": [],
   "execution_count": null,
   "source": "",
   "id": "10345fe2d6636d06"
  }
 ],
 "metadata": {
  "kernelspec": {
   "display_name": "Python 3",
   "language": "python",
   "name": "python3"
  },
  "language_info": {
   "codemirror_mode": {
    "name": "ipython",
    "version": 2
   },
   "file_extension": ".py",
   "mimetype": "text/x-python",
   "name": "python",
   "nbconvert_exporter": "python",
   "pygments_lexer": "ipython2",
   "version": "2.7.6"
  }
 },
 "nbformat": 4,
 "nbformat_minor": 5
}
