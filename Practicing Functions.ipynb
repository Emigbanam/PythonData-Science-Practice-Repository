{
 "cells": [
  {
   "metadata": {},
   "cell_type": "markdown",
   "source": "INTRODUCTION TO FUNCTIONS",
   "id": "ad3c1278be410743"
  },
  {
   "metadata": {
    "ExecuteTime": {
     "end_time": "2025-06-18T14:30:45.495970Z",
     "start_time": "2025-06-18T14:30:45.479965Z"
    }
   },
   "cell_type": "code",
   "source": [
    "def greet():\n",
    "    print('Hi there!')\n",
    "    print('Welcome aboard')\n",
    "\n",
    "greet()\n"
   ],
   "id": "7bd839c70b9e28bb",
   "outputs": [
    {
     "name": "stdout",
     "output_type": "stream",
     "text": [
      "Hi there!\n",
      "Welcome aboard\n"
     ]
    }
   ],
   "execution_count": 1
  },
  {
   "metadata": {},
   "cell_type": "markdown",
   "source": "ARGUMENTS",
   "id": "920b1087fbd298c5"
  },
  {
   "metadata": {
    "ExecuteTime": {
     "end_time": "2025-06-18T14:30:45.588004Z",
     "start_time": "2025-06-18T14:30:45.578495Z"
    }
   },
   "cell_type": "code",
   "source": [
    "def greet (first_name, last_name):\n",
    "    print(f'Hi {first_name} {last_name}')\n",
    "    print('Welcome Aboard')\n",
    "\n",
    "greet('John', 'Johnson')\n",
    "greet('Mike', 'Jack')"
   ],
   "id": "53e18f9459a8a821",
   "outputs": [
    {
     "name": "stdout",
     "output_type": "stream",
     "text": [
      "Hi John Johnson\n",
      "Welcome Aboard\n",
      "Hi Mike Jack\n",
      "Welcome Aboard\n"
     ]
    }
   ],
   "execution_count": 2
  },
  {
   "metadata": {
    "ExecuteTime": {
     "end_time": "2025-06-18T14:30:45.656098Z",
     "start_time": "2025-06-18T14:30:45.647994Z"
    }
   },
   "cell_type": "code",
   "source": [
    "#A Function That Squares a Number\n",
    "def sqr():\n",
    "    new_value = 5**2\n",
    "    print(new_value)\n",
    "sqr()"
   ],
   "id": "608f8173b861b290",
   "outputs": [
    {
     "name": "stdout",
     "output_type": "stream",
     "text": [
      "25\n"
     ]
    }
   ],
   "execution_count": 3
  },
  {
   "metadata": {},
   "cell_type": "markdown",
   "source": "ADDING A PARAMETER TO A FUNCTION",
   "id": "607c7e38d01aa571"
  },
  {
   "metadata": {
    "ExecuteTime": {
     "end_time": "2025-06-18T14:30:45.737771Z",
     "start_time": "2025-06-18T14:30:45.730765Z"
    }
   },
   "cell_type": "code",
   "source": [
    "#Adding A Parameter To The Function That Squares\n",
    "def sqr(val):\n",
    "    new_val = val**2\n",
    "    print(new_val)\n",
    "sqr(19)"
   ],
   "id": "2eec14620eb95907",
   "outputs": [
    {
     "name": "stdout",
     "output_type": "stream",
     "text": [
      "361\n"
     ]
    }
   ],
   "execution_count": 4
  },
  {
   "metadata": {
    "ExecuteTime": {
     "end_time": "2025-06-18T14:30:45.803125Z",
     "start_time": "2025-06-18T14:30:45.793615Z"
    }
   },
   "cell_type": "code",
   "source": [
    "#Adding A Parameter To The Function That Squares\n",
    "def sqr(val):\n",
    "    '''Returns the square of a value.'''  #Doc Strings\n",
    "    new_val = val**2\n",
    "    return new_val\n",
    "val_sqr = sqr(9)\n",
    "print(val_sqr)\n",
    "\n",
    "#While the print statement just gives you an answer, the answer cannot be reused, the return statement on the other hand, gives an answer that can be reused when saved in a variable."
   ],
   "id": "b6e60ef64c6c647b",
   "outputs": [
    {
     "name": "stdout",
     "output_type": "stream",
     "text": [
      "81\n"
     ]
    }
   ],
   "execution_count": 5
  },
  {
   "metadata": {},
   "cell_type": "markdown",
   "source": "RETURN FUNCTIONS",
   "id": "62ff947f8c8140ce"
  },
  {
   "metadata": {
    "ExecuteTime": {
     "end_time": "2025-06-18T14:30:45.863355Z",
     "start_time": "2025-06-18T14:30:45.856704Z"
    }
   },
   "cell_type": "code",
   "source": [
    "def greet(name):\n",
    "    print(f\"Hi {name}\")\n",
    "greet('Johnson')\n"
   ],
   "id": "53aaa41fce477249",
   "outputs": [
    {
     "name": "stdout",
     "output_type": "stream",
     "text": [
      "Hi Johnson\n"
     ]
    }
   ],
   "execution_count": 6
  },
  {
   "metadata": {
    "ExecuteTime": {
     "end_time": "2025-06-18T14:30:45.914271Z",
     "start_time": "2025-06-18T14:30:45.908034Z"
    }
   },
   "cell_type": "code",
   "source": [
    "def greet(name):\n",
    "    print(f\"Hi {name}\")\n",
    "\n",
    "print(greet('Johnson'))\n"
   ],
   "id": "fd888e0c4e201ba3",
   "outputs": [
    {
     "name": "stdout",
     "output_type": "stream",
     "text": [
      "Hi Johnson\n",
      "None\n"
     ]
    }
   ],
   "execution_count": 7
  },
  {
   "metadata": {
    "ExecuteTime": {
     "end_time": "2025-06-18T14:30:45.967119Z",
     "start_time": "2025-06-18T14:30:45.959282Z"
    }
   },
   "cell_type": "code",
   "source": [
    "def greet(name):\n",
    "    print(f\"Hi {name}\")\n",
    "    return '...'\n",
    "\n",
    "print(greet('Johnson'))\n"
   ],
   "id": "8aa0f97974f0ad33",
   "outputs": [
    {
     "name": "stdout",
     "output_type": "stream",
     "text": [
      "Hi Johnson\n",
      "...\n"
     ]
    }
   ],
   "execution_count": 8
  },
  {
   "metadata": {},
   "cell_type": "markdown",
   "source": "MULTIPLE FUNCTION PARAMETERS",
   "id": "acf5a6f0723a07cd"
  },
  {
   "metadata": {
    "ExecuteTime": {
     "end_time": "2025-06-18T14:30:46.006130Z",
     "start_time": "2025-06-18T14:30:45.995131Z"
    }
   },
   "cell_type": "code",
   "source": [
    "def increment(number, by):\n",
    "    '''Increases one number by another'''\n",
    "    return number + by\n",
    "increment(7,8)"
   ],
   "id": "dcd1577171d065f5",
   "outputs": [
    {
     "data": {
      "text/plain": [
       "15"
      ]
     },
     "execution_count": 9,
     "metadata": {},
     "output_type": "execute_result"
    }
   ],
   "execution_count": 9
  },
  {
   "metadata": {
    "ExecuteTime": {
     "end_time": "2025-06-18T14:30:46.056889Z",
     "start_time": "2025-06-18T14:30:46.050649Z"
    }
   },
   "cell_type": "code",
   "source": [
    "def increment(number, by):\n",
    "    return number + by\n",
    "result = increment(7,8)\n",
    "print(result)"
   ],
   "id": "d9f9cb06996b19cf",
   "outputs": [
    {
     "name": "stdout",
     "output_type": "stream",
     "text": [
      "15\n"
     ]
    }
   ],
   "execution_count": 10
  },
  {
   "metadata": {
    "ExecuteTime": {
     "end_time": "2025-06-18T14:30:46.113968Z",
     "start_time": "2025-06-18T14:30:46.107904Z"
    }
   },
   "cell_type": "code",
   "source": [
    "def increment(number, by):\n",
    "    return number + by\n",
    "print(increment(7,8))"
   ],
   "id": "cb658abd84a16baa",
   "outputs": [
    {
     "name": "stdout",
     "output_type": "stream",
     "text": [
      "15\n"
     ]
    }
   ],
   "execution_count": 11
  },
  {
   "metadata": {
    "ExecuteTime": {
     "end_time": "2025-06-18T14:30:46.164981Z",
     "start_time": "2025-06-18T14:30:46.156989Z"
    }
   },
   "cell_type": "code",
   "source": [
    "#Making The Code More Readable\n",
    "def increment(number, by):\n",
    "    return number + by\n",
    "print(increment(7, by=8))"
   ],
   "id": "b270f58e8b2341b2",
   "outputs": [
    {
     "name": "stdout",
     "output_type": "stream",
     "text": [
      "15\n"
     ]
    }
   ],
   "execution_count": 12
  },
  {
   "metadata": {
    "ExecuteTime": {
     "end_time": "2025-06-18T14:30:46.209749Z",
     "start_time": "2025-06-18T14:30:46.200506Z"
    }
   },
   "cell_type": "code",
   "source": [
    "#Returning multiple values\n",
    "def sqr_vals (val1, val2):\n",
    "    '''Raise val1 to the power of val2 and vice versa'''\n",
    "    new_val1 = val1 ** val2\n",
    "    new_val2 = val2 ** val1\n",
    "\n",
    "    new_tuple = (new_val1, new_val2)\n",
    "    return new_tuple\n",
    "sqr_vals(3,2)"
   ],
   "id": "99319f316c2f2e86",
   "outputs": [
    {
     "data": {
      "text/plain": [
       "(9, 8)"
      ]
     },
     "execution_count": 13,
     "metadata": {},
     "output_type": "execute_result"
    }
   ],
   "execution_count": 13
  },
  {
   "metadata": {},
   "cell_type": "markdown",
   "source": "DEFAULT ARGUMENTS",
   "id": "edc074f77ea502c3"
  },
  {
   "metadata": {
    "ExecuteTime": {
     "end_time": "2025-06-18T14:30:46.263837Z",
     "start_time": "2025-06-18T14:30:46.255056Z"
    }
   },
   "cell_type": "code",
   "source": [
    "#Seting an Default argument\n",
    "def increment(number, by=8):\n",
    "    return number + by\n",
    "print(increment(7))"
   ],
   "id": "236150f63007607c",
   "outputs": [
    {
     "name": "stdout",
     "output_type": "stream",
     "text": [
      "15\n"
     ]
    }
   ],
   "execution_count": 14
  },
  {
   "metadata": {
    "ExecuteTime": {
     "end_time": "2025-06-18T14:30:46.299006Z",
     "start_time": "2025-06-18T14:30:46.292500Z"
    }
   },
   "cell_type": "code",
   "source": [
    "#Seting an Default argument\n",
    "def increment(number, by=8):\n",
    "    return number + by\n",
    "print(increment(7, 9))\n",
    "\n",
    "\n",
    "#Note that all optional parameters(by) should come after the required parameter (number)"
   ],
   "id": "af42b1295a6024f",
   "outputs": [
    {
     "name": "stdout",
     "output_type": "stream",
     "text": [
      "16\n"
     ]
    }
   ],
   "execution_count": 15
  },
  {
   "metadata": {},
   "cell_type": "markdown",
   "source": "*args (Functions that take a variable number of arguments)",
   "id": "701e163a0ddf8599"
  },
  {
   "metadata": {
    "ExecuteTime": {
     "end_time": "2025-06-18T14:30:46.353608Z",
     "start_time": "2025-06-18T14:30:46.345095Z"
    }
   },
   "cell_type": "code",
   "source": [
    "def multiply(x,y):\n",
    "    return x * y\n",
    "multiply (2,3)"
   ],
   "id": "cbb9ef6270fdb08c",
   "outputs": [
    {
     "data": {
      "text/plain": [
       "6"
      ]
     },
     "execution_count": 16,
     "metadata": {},
     "output_type": "execute_result"
    }
   ],
   "execution_count": 16
  },
  {
   "metadata": {
    "ExecuteTime": {
     "end_time": "2025-06-18T14:30:46.389688Z",
     "start_time": "2025-06-18T14:30:46.382579Z"
    }
   },
   "cell_type": "code",
   "source": [
    "def multiply(*numbers):\n",
    "    print(numbers)\n",
    "multiply (1,2,3,4,5)\n",
    "#This allows you to write functions without specifying the number of parameters required, so that it allows multiple number of arguments."
   ],
   "id": "c113795cf85f04b",
   "outputs": [
    {
     "name": "stdout",
     "output_type": "stream",
     "text": [
      "(1, 2, 3, 4, 5)\n"
     ]
    }
   ],
   "execution_count": 17
  },
  {
   "metadata": {
    "ExecuteTime": {
     "end_time": "2025-06-18T14:30:46.450957Z",
     "start_time": "2025-06-18T14:30:46.442602Z"
    }
   },
   "cell_type": "code",
   "source": [
    "def multiply(*numbers):\n",
    "    for number in numbers:\n",
    "        print(number)\n",
    "multiply (1,2,3,4,5)"
   ],
   "id": "9bf538d4c0c85803",
   "outputs": [
    {
     "name": "stdout",
     "output_type": "stream",
     "text": [
      "1\n",
      "2\n",
      "3\n",
      "4\n",
      "5\n"
     ]
    }
   ],
   "execution_count": 18
  },
  {
   "metadata": {
    "ExecuteTime": {
     "end_time": "2025-06-18T14:30:46.514237Z",
     "start_time": "2025-06-18T14:30:46.504976Z"
    }
   },
   "cell_type": "code",
   "source": [
    "def multiply(*numbers):\n",
    "    total = 1\n",
    "    for number in numbers:\n",
    "        total = total * number\n",
    "    return total\n",
    "\n",
    "multiply (1,2,3,4,5)"
   ],
   "id": "90a425fd16bb4dc3",
   "outputs": [
    {
     "data": {
      "text/plain": [
       "120"
      ]
     },
     "execution_count": 19,
     "metadata": {},
     "output_type": "execute_result"
    }
   ],
   "execution_count": 19
  },
  {
   "metadata": {
    "ExecuteTime": {
     "end_time": "2025-06-18T14:30:46.550778Z",
     "start_time": "2025-06-18T14:30:46.542250Z"
    }
   },
   "cell_type": "code",
   "source": [
    "def addition(*numbers):\n",
    "    totals = 0\n",
    "    for number in numbers:\n",
    "        totals = totals + number\n",
    "    return totals\n",
    "\n",
    "addition (1,2,3,4,5)"
   ],
   "id": "3d0aefd71f18d1a1",
   "outputs": [
    {
     "data": {
      "text/plain": [
       "15"
      ]
     },
     "execution_count": 20,
     "metadata": {},
     "output_type": "execute_result"
    }
   ],
   "execution_count": 20
  },
  {
   "metadata": {},
   "cell_type": "markdown",
   "source": "**args (Functions that take a variable number of arguments, and allows you pass multiple keyword arguments or key value pairs)",
   "id": "e79a0d94668f5442"
  },
  {
   "metadata": {
    "ExecuteTime": {
     "end_time": "2025-06-18T14:30:46.599781Z",
     "start_time": "2025-06-18T14:30:46.592793Z"
    }
   },
   "cell_type": "code",
   "source": [
    "def save_user(**user):\n",
    "    print(user)\n",
    "\n",
    "save_user(id=1, name='Jake', age=24)\n",
    "\n",
    "#This function returns a dictionary"
   ],
   "id": "3b0ea5343c57f9d6",
   "outputs": [
    {
     "name": "stdout",
     "output_type": "stream",
     "text": [
      "{'id': 1, 'name': 'Jake', 'age': 24}\n"
     ]
    }
   ],
   "execution_count": 21
  },
  {
   "metadata": {
    "ExecuteTime": {
     "end_time": "2025-06-18T14:30:46.632792Z",
     "start_time": "2025-06-18T14:30:46.624792Z"
    }
   },
   "cell_type": "code",
   "source": [
    "def save_user(**user):\n",
    "    print(user['id'])\n",
    "\n",
    "save_user(id=1, name='Jake', age=24)\n",
    "#Key value pairs allow you to access the value of various keys in the dictionary."
   ],
   "id": "c80562f5610ed043",
   "outputs": [
    {
     "name": "stdout",
     "output_type": "stream",
     "text": [
      "1\n"
     ]
    }
   ],
   "execution_count": 22
  },
  {
   "metadata": {
    "ExecuteTime": {
     "end_time": "2025-06-18T14:30:46.664316Z",
     "start_time": "2025-06-18T14:30:46.655317Z"
    }
   },
   "cell_type": "code",
   "source": [
    "def save_user(**user):\n",
    "    print(user['name'])\n",
    "\n",
    "save_user(id=1, name='Jake', age=24)"
   ],
   "id": "fd348fb0c26c21c",
   "outputs": [
    {
     "name": "stdout",
     "output_type": "stream",
     "text": [
      "Jake\n"
     ]
    }
   ],
   "execution_count": 23
  },
  {
   "metadata": {
    "ExecuteTime": {
     "end_time": "2025-06-18T14:30:46.693840Z",
     "start_time": "2025-06-18T14:30:46.689844Z"
    }
   },
   "cell_type": "code",
   "source": "",
   "id": "10345fe2d6636d06",
   "outputs": [],
   "execution_count": null
  },
  {
   "metadata": {},
   "cell_type": "markdown",
   "source": "NESTED FUNCTIONS",
   "id": "2543383068a025b"
  },
  {
   "metadata": {
    "ExecuteTime": {
     "end_time": "2025-06-18T15:47:49.094085Z",
     "start_time": "2025-06-18T15:47:48.915382Z"
    }
   },
   "cell_type": "code",
   "source": [
    "#Why nested functions?\n",
    "\n",
    "def mod2plus5(x1, x2, x3):\n",
    "    '''Returns the remainder plus 5 of three values'''\n",
    "\n",
    "    new_x1 = x1 % 2 + 5\n",
    "    new_x2 = x2 % 2 + 5\n",
    "    new_x3 = x3 % 2 + 5\n",
    "\n",
    "    return (new_x1, new_x2, new_x3)\n",
    "\n",
    "mod2plus5(5, 8, 9)"
   ],
   "id": "66b899bafe0eb9c3",
   "outputs": [
    {
     "data": {
      "text/plain": [
       "(6, 5, 6)"
      ]
     },
     "execution_count": 24,
     "metadata": {},
     "output_type": "execute_result"
    }
   ],
   "execution_count": 24
  },
  {
   "metadata": {
    "ExecuteTime": {
     "end_time": "2025-06-18T15:52:23.403249Z",
     "start_time": "2025-06-18T15:52:23.388913Z"
    }
   },
   "cell_type": "code",
   "source": [
    "#If we need to do this computation many times, it would be tedious, so we used nested functions in instances like this.\n",
    "\n",
    "def mod2plus5(x1, x2, x3):\n",
    "    '''Returns the remainder plus 5 of three values'''\n",
    "\n",
    "    def inner(x):\n",
    "        '''Returns the remainder plus 5 of three values'''\n",
    "        return x % 2+ 5\n",
    "\n",
    "\n",
    "    return (inner(x1), inner(x2), inner(x3))\n",
    "print(mod2plus5(5, 8, 9))\n"
   ],
   "id": "d691e0b2c16821f1",
   "outputs": [
    {
     "name": "stdout",
     "output_type": "stream",
     "text": [
      "(6, 5, 6)\n"
     ]
    }
   ],
   "execution_count": 29
  },
  {
   "metadata": {
    "ExecuteTime": {
     "end_time": "2025-06-18T16:05:14.550422Z",
     "start_time": "2025-06-18T16:05:14.525612Z"
    }
   },
   "cell_type": "code",
   "source": [
    "#In this instance we want to write a function that can help us calculate indices of numbers\n",
    "\n",
    "def raise_val(n):\n",
    "    '''Return the inner function'''\n",
    "\n",
    "    def inner(x):\n",
    "        '''Raise x to the power of n'''\n",
    "        raised = x ** n\n",
    "        return raised\n",
    "\n",
    "\n",
    "    return inner"
   ],
   "id": "f69a111348b10b03",
   "outputs": [],
   "execution_count": 38
  },
  {
   "metadata": {
    "ExecuteTime": {
     "end_time": "2025-06-18T16:01:55.258640Z",
     "start_time": "2025-06-18T16:01:55.249427Z"
    }
   },
   "cell_type": "code",
   "source": [
    "square = raise_val(2)\n",
    "cube = raise_val(3)\n",
    "print(square (2), cube(4))"
   ],
   "id": "bf8c510a9df4014",
   "outputs": [
    {
     "name": "stdout",
     "output_type": "stream",
     "text": [
      "4 64\n"
     ]
    }
   ],
   "execution_count": 36
  },
  {
   "metadata": {
    "ExecuteTime": {
     "end_time": "2025-06-18T16:02:24.604269Z",
     "start_time": "2025-06-18T16:02:24.584745Z"
    }
   },
   "cell_type": "code",
   "source": [
    "cube_rt = raise_val(0.5)\n",
    "cube_rt(9)"
   ],
   "id": "20f67a9415addd83",
   "outputs": [
    {
     "data": {
      "text/plain": [
       "3.0"
      ]
     },
     "execution_count": 37,
     "metadata": {},
     "output_type": "execute_result"
    }
   ],
   "execution_count": 37
  },
  {
   "metadata": {
    "ExecuteTime": {
     "end_time": "2025-06-18T16:14:00.929361Z",
     "start_time": "2025-06-18T16:14:00.899955Z"
    }
   },
   "cell_type": "code",
   "source": [
    "def auto_calc(a, b, c):\n",
    "    new_calc1 = a ** 2 + 5\n",
    "    new_calc2 = b ** 2 + 5\n",
    "    new_calc3 = c ** 2 + 5\n",
    "\n",
    "    return(new_calc1,new_calc2, new_calc3)\n",
    "auto_calc(3,4,5)"
   ],
   "id": "e49688a098266151",
   "outputs": [
    {
     "data": {
      "text/plain": [
       "(14, 21, 30)"
      ]
     },
     "execution_count": 41,
     "metadata": {},
     "output_type": "execute_result"
    }
   ],
   "execution_count": 41
  },
  {
   "metadata": {
    "ExecuteTime": {
     "end_time": "2025-06-18T16:17:49.826481Z",
     "start_time": "2025-06-18T16:17:49.816700Z"
    }
   },
   "cell_type": "code",
   "source": [
    "def auto_calc2(x,y,z):\n",
    "\n",
    "    def inner(q):\n",
    "        new_q = q ** 2 + 5\n",
    "        return new_q\n",
    "    return (inner(x), inner(y), inner(z))\n",
    "\n",
    "auto_calc2(3,4,5)"
   ],
   "id": "ee59c0567b1c5718",
   "outputs": [
    {
     "data": {
      "text/plain": [
       "(14, 21, 30)"
      ]
     },
     "execution_count": 46,
     "metadata": {},
     "output_type": "execute_result"
    }
   ],
   "execution_count": 46
  },
  {
   "metadata": {
    "ExecuteTime": {
     "end_time": "2025-06-18T19:22:37.802049Z",
     "start_time": "2025-06-18T19:22:37.728146Z"
    }
   },
   "cell_type": "code",
   "source": [
    "def power(number, pow=2):\n",
    "    new_value = number ** pow\n",
    "    return new_value\n",
    "\n",
    "power (4)"
   ],
   "id": "ffc73d57dcae20a0",
   "outputs": [
    {
     "data": {
      "text/plain": [
       "16"
      ]
     },
     "execution_count": 48,
     "metadata": {},
     "output_type": "execute_result"
    }
   ],
   "execution_count": 48
  },
  {
   "metadata": {},
   "cell_type": "code",
   "outputs": [],
   "execution_count": null,
   "source": "",
   "id": "4986287fcd997d16"
  }
 ],
 "metadata": {
  "kernelspec": {
   "display_name": "Python 3",
   "language": "python",
   "name": "python3"
  },
  "language_info": {
   "codemirror_mode": {
    "name": "ipython",
    "version": 2
   },
   "file_extension": ".py",
   "mimetype": "text/x-python",
   "name": "python",
   "nbconvert_exporter": "python",
   "pygments_lexer": "ipython2",
   "version": "2.7.6"
  }
 },
 "nbformat": 4,
 "nbformat_minor": 5
}
