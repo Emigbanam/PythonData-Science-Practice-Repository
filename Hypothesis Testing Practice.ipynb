{
 "cells": [
  {
   "cell_type": "code",
   "id": "initial_id",
   "metadata": {
    "collapsed": true,
    "ExecuteTime": {
     "end_time": "2025-06-24T22:28:49.378988Z",
     "start_time": "2025-06-24T22:28:49.341776Z"
    }
   },
   "source": [
    "import numpy as np\n",
    "import pandas as pd\n",
    "import matplotlib.pyplot as plt\n",
    "import seaborn as sns\n",
    "from scipy.stats import norm\n",
    "from scipy.stats import t\n",
    "import warnings\n",
    "warnings.simplefilter(\"ignore\")"
   ],
   "outputs": [],
   "execution_count": 25
  },
  {
   "metadata": {
    "ExecuteTime": {
     "end_time": "2025-06-24T22:07:34.349309Z",
     "start_time": "2025-06-24T22:07:34.200420Z"
    }
   },
   "cell_type": "code",
   "source": [
    "late_ship = pd.read_csv(\"C:/Users/Emigb/Documents/Data Science/datasets/late_shipments.csv\")\n",
    "stack = pd.read_csv(\"C:/Users/Emigb/Documents/Data Science/datasets/stack_overflow.csv\")"
   ],
   "id": "88f24f4fc7a82532",
   "outputs": [],
   "execution_count": 2
  },
  {
   "metadata": {
    "ExecuteTime": {
     "end_time": "2025-06-24T22:07:34.438260Z",
     "start_time": "2025-06-24T22:07:34.365315Z"
    }
   },
   "cell_type": "code",
   "source": "late_ship.head()",
   "id": "38d6fe917cbd22",
   "outputs": [
    {
     "data": {
      "text/plain": [
       "        id       country managed_by  fulfill_via vendor_inco_term  \\\n",
       "0  36203.0       Nigeria   PMO - US  Direct Drop              EXW   \n",
       "1  30998.0      Botswana   PMO - US  Direct Drop              EXW   \n",
       "2  69871.0       Vietnam   PMO - US  Direct Drop              EXW   \n",
       "3  17648.0  South Africa   PMO - US  Direct Drop              DDP   \n",
       "4   5647.0        Uganda   PMO - US  Direct Drop              EXW   \n",
       "\n",
       "  shipment_mode  late_delivery late product_group    sub_classification  ...  \\\n",
       "0           Air            1.0  Yes          HRDT              HIV test  ...   \n",
       "1           Air            0.0   No          HRDT              HIV test  ...   \n",
       "2           Air            0.0   No           ARV                 Adult  ...   \n",
       "3         Ocean            0.0   No           ARV                 Adult  ...   \n",
       "4           Air            0.0   No          HRDT  HIV test - Ancillary  ...   \n",
       "\n",
       "  line_item_quantity line_item_value pack_price unit_price  \\\n",
       "0             2996.0       266644.00      89.00       0.89   \n",
       "1               25.0          800.00      32.00       1.60   \n",
       "2            22925.0       110040.00       4.80       0.08   \n",
       "3           152535.0       361507.95       2.37       0.04   \n",
       "4              850.0            8.50       0.01       0.00   \n",
       "\n",
       "             manufacturing_site first_line_designation  weight_kilograms  \\\n",
       "0       Alere Medical Co., Ltd.                    Yes            1426.0   \n",
       "1          Trinity Biotech, Plc                    Yes              10.0   \n",
       "2  Hetero Unit III Hyderabad IN                    Yes            3723.0   \n",
       "3     Aurobindo Unit III, India                    Yes            7698.0   \n",
       "4               Inverness Japan                    Yes              56.0   \n",
       "\n",
       "   freight_cost_usd  freight_cost_groups  line_item_insurance_usd  \n",
       "0          33279.83            expensive                   373.83  \n",
       "1            559.89           reasonable                     1.72  \n",
       "2          19056.13            expensive                   181.57  \n",
       "3          11372.23            expensive                   779.41  \n",
       "4            360.00           reasonable                     0.01  \n",
       "\n",
       "[5 rows x 27 columns]"
      ],
      "text/html": [
       "<div>\n",
       "<style scoped>\n",
       "    .dataframe tbody tr th:only-of-type {\n",
       "        vertical-align: middle;\n",
       "    }\n",
       "\n",
       "    .dataframe tbody tr th {\n",
       "        vertical-align: top;\n",
       "    }\n",
       "\n",
       "    .dataframe thead th {\n",
       "        text-align: right;\n",
       "    }\n",
       "</style>\n",
       "<table border=\"1\" class=\"dataframe\">\n",
       "  <thead>\n",
       "    <tr style=\"text-align: right;\">\n",
       "      <th></th>\n",
       "      <th>id</th>\n",
       "      <th>country</th>\n",
       "      <th>managed_by</th>\n",
       "      <th>fulfill_via</th>\n",
       "      <th>vendor_inco_term</th>\n",
       "      <th>shipment_mode</th>\n",
       "      <th>late_delivery</th>\n",
       "      <th>late</th>\n",
       "      <th>product_group</th>\n",
       "      <th>sub_classification</th>\n",
       "      <th>...</th>\n",
       "      <th>line_item_quantity</th>\n",
       "      <th>line_item_value</th>\n",
       "      <th>pack_price</th>\n",
       "      <th>unit_price</th>\n",
       "      <th>manufacturing_site</th>\n",
       "      <th>first_line_designation</th>\n",
       "      <th>weight_kilograms</th>\n",
       "      <th>freight_cost_usd</th>\n",
       "      <th>freight_cost_groups</th>\n",
       "      <th>line_item_insurance_usd</th>\n",
       "    </tr>\n",
       "  </thead>\n",
       "  <tbody>\n",
       "    <tr>\n",
       "      <th>0</th>\n",
       "      <td>36203.0</td>\n",
       "      <td>Nigeria</td>\n",
       "      <td>PMO - US</td>\n",
       "      <td>Direct Drop</td>\n",
       "      <td>EXW</td>\n",
       "      <td>Air</td>\n",
       "      <td>1.0</td>\n",
       "      <td>Yes</td>\n",
       "      <td>HRDT</td>\n",
       "      <td>HIV test</td>\n",
       "      <td>...</td>\n",
       "      <td>2996.0</td>\n",
       "      <td>266644.00</td>\n",
       "      <td>89.00</td>\n",
       "      <td>0.89</td>\n",
       "      <td>Alere Medical Co., Ltd.</td>\n",
       "      <td>Yes</td>\n",
       "      <td>1426.0</td>\n",
       "      <td>33279.83</td>\n",
       "      <td>expensive</td>\n",
       "      <td>373.83</td>\n",
       "    </tr>\n",
       "    <tr>\n",
       "      <th>1</th>\n",
       "      <td>30998.0</td>\n",
       "      <td>Botswana</td>\n",
       "      <td>PMO - US</td>\n",
       "      <td>Direct Drop</td>\n",
       "      <td>EXW</td>\n",
       "      <td>Air</td>\n",
       "      <td>0.0</td>\n",
       "      <td>No</td>\n",
       "      <td>HRDT</td>\n",
       "      <td>HIV test</td>\n",
       "      <td>...</td>\n",
       "      <td>25.0</td>\n",
       "      <td>800.00</td>\n",
       "      <td>32.00</td>\n",
       "      <td>1.60</td>\n",
       "      <td>Trinity Biotech, Plc</td>\n",
       "      <td>Yes</td>\n",
       "      <td>10.0</td>\n",
       "      <td>559.89</td>\n",
       "      <td>reasonable</td>\n",
       "      <td>1.72</td>\n",
       "    </tr>\n",
       "    <tr>\n",
       "      <th>2</th>\n",
       "      <td>69871.0</td>\n",
       "      <td>Vietnam</td>\n",
       "      <td>PMO - US</td>\n",
       "      <td>Direct Drop</td>\n",
       "      <td>EXW</td>\n",
       "      <td>Air</td>\n",
       "      <td>0.0</td>\n",
       "      <td>No</td>\n",
       "      <td>ARV</td>\n",
       "      <td>Adult</td>\n",
       "      <td>...</td>\n",
       "      <td>22925.0</td>\n",
       "      <td>110040.00</td>\n",
       "      <td>4.80</td>\n",
       "      <td>0.08</td>\n",
       "      <td>Hetero Unit III Hyderabad IN</td>\n",
       "      <td>Yes</td>\n",
       "      <td>3723.0</td>\n",
       "      <td>19056.13</td>\n",
       "      <td>expensive</td>\n",
       "      <td>181.57</td>\n",
       "    </tr>\n",
       "    <tr>\n",
       "      <th>3</th>\n",
       "      <td>17648.0</td>\n",
       "      <td>South Africa</td>\n",
       "      <td>PMO - US</td>\n",
       "      <td>Direct Drop</td>\n",
       "      <td>DDP</td>\n",
       "      <td>Ocean</td>\n",
       "      <td>0.0</td>\n",
       "      <td>No</td>\n",
       "      <td>ARV</td>\n",
       "      <td>Adult</td>\n",
       "      <td>...</td>\n",
       "      <td>152535.0</td>\n",
       "      <td>361507.95</td>\n",
       "      <td>2.37</td>\n",
       "      <td>0.04</td>\n",
       "      <td>Aurobindo Unit III, India</td>\n",
       "      <td>Yes</td>\n",
       "      <td>7698.0</td>\n",
       "      <td>11372.23</td>\n",
       "      <td>expensive</td>\n",
       "      <td>779.41</td>\n",
       "    </tr>\n",
       "    <tr>\n",
       "      <th>4</th>\n",
       "      <td>5647.0</td>\n",
       "      <td>Uganda</td>\n",
       "      <td>PMO - US</td>\n",
       "      <td>Direct Drop</td>\n",
       "      <td>EXW</td>\n",
       "      <td>Air</td>\n",
       "      <td>0.0</td>\n",
       "      <td>No</td>\n",
       "      <td>HRDT</td>\n",
       "      <td>HIV test - Ancillary</td>\n",
       "      <td>...</td>\n",
       "      <td>850.0</td>\n",
       "      <td>8.50</td>\n",
       "      <td>0.01</td>\n",
       "      <td>0.00</td>\n",
       "      <td>Inverness Japan</td>\n",
       "      <td>Yes</td>\n",
       "      <td>56.0</td>\n",
       "      <td>360.00</td>\n",
       "      <td>reasonable</td>\n",
       "      <td>0.01</td>\n",
       "    </tr>\n",
       "  </tbody>\n",
       "</table>\n",
       "<p>5 rows × 27 columns</p>\n",
       "</div>"
      ]
     },
     "execution_count": 3,
     "metadata": {},
     "output_type": "execute_result"
    }
   ],
   "execution_count": 3
  },
  {
   "metadata": {},
   "cell_type": "markdown",
   "source": "CALCULATING SAMPLE MEAN",
   "id": "b3c8846903cfb255"
  },
  {
   "metadata": {},
   "cell_type": "markdown",
   "source": [
    "The late_shipments dataset contains supply chain data on the delivery of medical supplies. Each row represents one delivery of a part. The late columns denotes whether or not the part was delivered late. A value of \"Yes\" means that the part was delivered late, and a value of \"No\" means the part was delivered on time.\n",
    "We begin our analysis by calculating a point estimate (or sample statistic), namely the proportion of late shipments."
   ],
   "id": "c5092a8cac8c3033"
  },
  {
   "metadata": {
    "ExecuteTime": {
     "end_time": "2025-06-24T22:07:34.480522Z",
     "start_time": "2025-06-24T22:07:34.469500Z"
    }
   },
   "cell_type": "code",
   "source": [
    "#1. Calculate the proportion of late shipments in the sample; that is, the mean cases where the late column is \"Yes\".\n",
    "late_ship_samp = (late_ship['late']=='Yes').mean()\n",
    "print(late_ship_samp)"
   ],
   "id": "47eb38f20f9f9b8c",
   "outputs": [
    {
     "name": "stdout",
     "output_type": "stream",
     "text": [
      "0.061\n"
     ]
    }
   ],
   "execution_count": 4
  },
  {
   "metadata": {},
   "cell_type": "markdown",
   "source": [
    "Z-TESTS\n",
    "\n",
    "Use case: Compare sample mean to population mean when population standard deviation is known and sample size is large (n > 30)."
   ],
   "id": "2a96d3a470a3347f"
  },
  {
   "metadata": {},
   "cell_type": "markdown",
   "source": "CALCULATING Z-SCORES",
   "id": "57ff72033883656f"
  },
  {
   "metadata": {},
   "cell_type": "markdown",
   "source": [
    "Since variables have arbitrary ranges and units, we need to standardize them. For example, a hypothesis test that gave different answers if the variables were in Euros instead of US dollars would be of little value. Standardization avoids that.\n",
    "One standardized value of interest in a hypothesis test is called a z-score. To calculate it, you need three numbers: the sample statistic (point estimate), the hypothesized statistic, and the standard error of the statistic (estimated from the bootstrap distribution).\n",
    "\n",
    "\n",
    "The null hypothesis, (H₀), is that the proportion of late shipments is six percent.\n",
    "\n",
    "The alternative hypothesis, (HA), is that the proportion of late shipments is greater than six percent.\n",
    "\n"
   ],
   "id": "300a3a3979b0834a"
  },
  {
   "metadata": {
    "ExecuteTime": {
     "end_time": "2025-06-24T22:07:34.550559Z",
     "start_time": "2025-06-24T22:07:34.545544Z"
    }
   },
   "cell_type": "code",
   "source": "late_ship_hyp = 6/100",
   "id": "d3bda6a0e4b5a8e",
   "outputs": [],
   "execution_count": 5
  },
  {
   "metadata": {
    "ExecuteTime": {
     "end_time": "2025-06-24T22:07:36.116417Z",
     "start_time": "2025-06-24T22:07:34.564569Z"
    }
   },
   "cell_type": "code",
   "source": [
    "#Calculating the bootstrap distribution of sample mean\n",
    "late_shipments_boot_distn = []\n",
    "for i in range (5000):\n",
    "    late_shipments_boot_distn.append(\n",
    "        np.mean(\n",
    "            late_ship.sample(frac=1,replace=True)['late_delivery']\n",
    "        )\n",
    "    )"
   ],
   "id": "ca17952e2f793c22",
   "outputs": [],
   "execution_count": 6
  },
  {
   "metadata": {
    "ExecuteTime": {
     "end_time": "2025-06-24T22:07:36.547081Z",
     "start_time": "2025-06-24T22:07:36.125370Z"
    }
   },
   "cell_type": "code",
   "source": [
    "plt.hist(late_shipments_boot_distn, bins = 50)\n",
    "plt.show()"
   ],
   "id": "b178ddb526f7b1dd",
   "outputs": [
    {
     "data": {
      "text/plain": [
       "<Figure size 640x480 with 1 Axes>"
      ],
      "image/png": "[encoded data removed]"
     },
     "metadata": {},
     "output_type": "display_data"
    }
   ],
   "execution_count": 7
  },
  {
   "metadata": {
    "ExecuteTime": {
     "end_time": "2025-06-24T22:07:36.569774Z",
     "start_time": "2025-06-24T22:07:36.557002Z"
    }
   },
   "cell_type": "code",
   "source": [
    "#Calculating Standard Error\n",
    "std_error = np.std(late_shipments_boot_distn, ddof=1)"
   ],
   "id": "d77a90aac10ae03c",
   "outputs": [],
   "execution_count": 8
  },
  {
   "metadata": {
    "ExecuteTime": {
     "end_time": "2025-06-24T22:26:42.730458Z",
     "start_time": "2025-06-24T22:26:42.704413Z"
    }
   },
   "cell_type": "code",
   "source": [
    "#Calculation Z-Score\n",
    "z_score = (late_ship_samp-late_ship_hyp)/std_error\n",
    "print(z_score)"
   ],
   "id": "4e1cea54118f211a",
   "outputs": [
    {
     "name": "stdout",
     "output_type": "stream",
     "text": [
      "0.1308060682187427\n"
     ]
    }
   ],
   "execution_count": 24
  },
  {
   "metadata": {},
   "cell_type": "markdown",
   "source": "CALCULATING P-VALUES (For Z-Score)",
   "id": "ccc2180914d41888"
  },
  {
   "metadata": {
    "ExecuteTime": {
     "end_time": "2025-06-24T22:30:03.552574Z",
     "start_time": "2025-06-24T22:30:03.541454Z"
    }
   },
   "cell_type": "code",
   "source": [
    "#Calculating p-values form scipy.stats\n",
    "# Since HA > H0, we need a right-tailed test.\n",
    "p_val = 1 - norm.cdf(z_score, loc=0, scale = 1)\n",
    "print(p_val)"
   ],
   "id": "44f360c425e2c801",
   "outputs": [
    {
     "name": "stdout",
     "output_type": "stream",
     "text": [
      "0.4479643612508002\n"
     ]
    }
   ],
   "execution_count": 27
  },
  {
   "metadata": {},
   "cell_type": "markdown",
   "source": "Calculating a confidence interval",
   "id": "fafa86983206f0aa"
  },
  {
   "metadata": {},
   "cell_type": "markdown",
   "source": "If you give a single estimate of a sample statistic, you are bound to be wrong by some amount. For example, the hypothesized proportion of late shipments was 6%. Even if evidence suggests the null hypothesis that the proportion of late shipments is equal to this, for any new sample of shipments, the proportion is likely to be a little different due to sampling variability. Consequently, it's a good idea to state a confidence interval. That is, you say, \"we are 95% 'confident' that the proportion of late shipments is between A and B\" (for some value of A and B).",
   "id": "f995c1468d81a955"
  },
  {
   "metadata": {
    "ExecuteTime": {
     "end_time": "2025-06-24T22:48:15.917347Z",
     "start_time": "2025-06-24T22:48:15.906922Z"
    }
   },
   "cell_type": "code",
   "source": [
    "alpha = 0.05\n",
    "\n",
    "#aplha is the statistical significance, it  is the threshold point for \"beyond reasonable doubt\". Common values of alpha are 0.2, 0.1, 0.05, & 0.01"
   ],
   "id": "a5a7a1c739b8c410",
   "outputs": [],
   "execution_count": 34
  },
  {
   "metadata": {
    "ExecuteTime": {
     "end_time": "2025-06-24T22:46:08.023958Z",
     "start_time": "2025-06-24T22:46:08.010981Z"
    }
   },
   "cell_type": "code",
   "source": [
    "#Calculate a 95% confidence interval from late_shipments_boot_distn using the quantile method, labeling the lower and upper intervals lower and upper.\n",
    "\n",
    "lower = np.quantile (late_shipments_boot_distn, 0.025)\n",
    "upper = np.quantile (late_shipments_boot_distn, 0.975)\n",
    "\n",
    "print(lower, upper)"
   ],
   "id": "e5768f269bdd5e9e",
   "outputs": [
    {
     "name": "stdout",
     "output_type": "stream",
     "text": [
      "0.046 0.076\n"
     ]
    }
   ],
   "execution_count": 32
  },
  {
   "metadata": {
    "ExecuteTime": {
     "end_time": "2025-06-24T22:50:47.454399Z",
     "start_time": "2025-06-24T22:50:47.446726Z"
    }
   },
   "cell_type": "code",
   "source": [
    "#Does the confidence interval match up with the conclusion to stick with the original assumption that 6% is a reasonable value for the unknown population parameter?\n",
    "\n",
    "#Yes, since 0.06 (the hypothesized percentage of late shipments) is included in the 95% confidence interval and we failed to reject due to a large p-value, the results are similar."
   ],
   "id": "cfbcca6dc9e18dad",
   "outputs": [],
   "execution_count": 37
  },
  {
   "metadata": {},
   "cell_type": "markdown",
   "source": [
    "T-TESTS\n",
    "Use case: Compare sample mean(s) when population std deviation is unknown."
   ],
   "id": "ffb1f12ee8210f5d"
  },
  {
   "metadata": {},
   "cell_type": "markdown",
   "source": [
    "Two sample mean test statistic (2 Sample T-Test)\n",
    "\n",
    "\n",
    "\n",
    "The hypothesis test for determining if there is a difference between the means of two populations uses a \"T-Test\", and it can be calculated from three values from each sample using this equation."
   ],
   "id": "1fba4e9177f9cabe"
  },
  {
   "metadata": {
    "ExecuteTime": {
     "end_time": "2025-06-24T22:38:37.730398Z",
     "start_time": "2025-06-24T22:38:37.564540Z"
    }
   },
   "cell_type": "code",
   "source": [
    "#Calculating for the value of xbar (sample mean)\n",
    "xbar = late_ship.groupby('late')['weight_kilograms'].mean()\n",
    "print(xbar)\n",
    "\n",
    "xbar_no = xbar['No']\n",
    "xbar_yes = xbar['Yes']\n"
   ],
   "id": "3015f671c02dba38",
   "outputs": [
    {
     "name": "stdout",
     "output_type": "stream",
     "text": [
      "late\n",
      "No     1897.791267\n",
      "Yes    2715.672131\n",
      "Name: weight_kilograms, dtype: float64\n"
     ]
    }
   ],
   "execution_count": 28
  },
  {
   "metadata": {
    "ExecuteTime": {
     "end_time": "2025-06-24T22:07:36.787964Z",
     "start_time": "2025-06-24T22:07:36.773882Z"
    }
   },
   "cell_type": "code",
   "source": [
    "#Calculating for the value of sbar (sample std)\n",
    "sbar = late_ship.groupby('late')['weight_kilograms'].std()\n",
    "print(sbar)\n",
    "\n",
    "sbar_no = sbar['No']\n",
    "sbar_yes = sbar['Yes']"
   ],
   "id": "c88de23f55820613",
   "outputs": [
    {
     "name": "stdout",
     "output_type": "stream",
     "text": [
      "late\n",
      "No     3154.039507\n",
      "Yes    2544.688211\n",
      "Name: weight_kilograms, dtype: float64\n"
     ]
    }
   ],
   "execution_count": 11
  },
  {
   "metadata": {
    "ExecuteTime": {
     "end_time": "2025-06-24T22:07:36.816163Z",
     "start_time": "2025-06-24T22:07:36.805965Z"
    }
   },
   "cell_type": "code",
   "source": [
    "#Calculating for the value of n (sample size)\n",
    "n = late_ship.groupby('late')['weight_kilograms'].count()\n",
    "print(n)\n",
    "\n",
    "n_no = n['No']\n",
    "n_yes = n['Yes']"
   ],
   "id": "fd94c64774cef4f1",
   "outputs": [
    {
     "name": "stdout",
     "output_type": "stream",
     "text": [
      "late\n",
      "No     939\n",
      "Yes     61\n",
      "Name: weight_kilograms, dtype: int64\n"
     ]
    }
   ],
   "execution_count": 12
  },
  {
   "metadata": {
    "ExecuteTime": {
     "end_time": "2025-06-24T22:07:36.843904Z",
     "start_time": "2025-06-24T22:07:36.836821Z"
    }
   },
   "cell_type": "code",
   "source": [
    "#Calculate the numerator of the t test statistic.\n",
    "numerator = xbar_no - xbar_yes\n",
    "print(numerator)"
   ],
   "id": "f27d657a2667d286",
   "outputs": [
    {
     "name": "stdout",
     "output_type": "stream",
     "text": [
      "-817.8808638418964\n"
     ]
    }
   ],
   "execution_count": 13
  },
  {
   "metadata": {
    "ExecuteTime": {
     "end_time": "2025-06-24T22:07:36.882337Z",
     "start_time": "2025-06-24T22:07:36.874091Z"
    }
   },
   "cell_type": "code",
   "source": [
    "#Calculate the denominator of the t test statistic.\n",
    "denominator = np.sqrt(sbar_no ** 2/n_no + sbar_yes **2/n_yes)\n",
    "print(denominator)"
   ],
   "id": "2b54492b6a85b352",
   "outputs": [
    {
     "name": "stdout",
     "output_type": "stream",
     "text": [
      "341.68543274794337\n"
     ]
    }
   ],
   "execution_count": 14
  },
  {
   "metadata": {},
   "cell_type": "markdown",
   "source": "CALCULATING P-VALUES",
   "id": "12ddaa165087ae53"
  },
  {
   "metadata": {
    "ExecuteTime": {
     "end_time": "2025-06-24T22:07:36.941540Z",
     "start_time": "2025-06-24T22:07:36.936014Z"
    }
   },
   "cell_type": "code",
   "outputs": [
    {
     "name": "stdout",
     "output_type": "stream",
     "text": [
      "-2.3936661778766433\n"
     ]
    }
   ],
   "execution_count": 15,
   "source": [
    "# Calculate the test statistic\n",
    "t_stat = numerator/denominator\n",
    "print(t_stat)"
   ],
   "id": "53089ce8ebe6618f"
  },
  {
   "metadata": {
    "ExecuteTime": {
     "end_time": "2025-06-24T22:23:27.116226Z",
     "start_time": "2025-06-24T22:23:27.108398Z"
    }
   },
   "cell_type": "code",
   "source": [
    "#Calculating for degrees of freedom (df)\n",
    "df = n_no + n_yes - 2\n",
    "\n",
    "#Calculating p-values form scipy.stats\n",
    "# Since HA > H0, we need a right-tailed test.\n",
    "p_value = 1-t.cdf(t_stat, df=df)\n",
    "print(p_value)"
   ],
   "id": "3d8eef14958eaaa5",
   "outputs": [
    {
     "name": "stdout",
     "output_type": "stream",
     "text": [
      "0.9915676178537505\n"
     ]
    }
   ],
   "execution_count": 23
  },
  {
   "metadata": {},
   "cell_type": "code",
   "outputs": [],
   "execution_count": null,
   "source": "",
   "id": "ecae76655ec1e352"
  }
 ],
 "metadata": {
  "kernelspec": {
   "display_name": "Python 3",
   "language": "python",
   "name": "python3"
  },
  "language_info": {
   "codemirror_mode": {
    "name": "ipython",
    "version": 2
   },
   "file_extension": ".py",
   "mimetype": "text/x-python",
   "name": "python",
   "nbconvert_exporter": "python",
   "pygments_lexer": "ipython2",
   "version": "2.7.6"
  }
 },
 "nbformat": 4,
 "nbformat_minor": 5
}
