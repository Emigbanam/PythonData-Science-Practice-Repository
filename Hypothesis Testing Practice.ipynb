{
 "cells": [
  {
   "cell_type": "code",
   "id": "initial_id",
   "metadata": {
    "collapsed": true,
    "ExecuteTime": {
     "end_time": "2025-06-23T23:24:35.847143Z",
     "start_time": "2025-06-23T23:24:35.841619Z"
    }
   },
   "source": [
    "import numpy as np\n",
    "import pandas as pd\n",
    "import matplotlib.pyplot as plt\n",
    "import seaborn as sns\n",
    "import warnings\n",
    "warnings.simplefilter(\"ignore\")"
   ],
   "outputs": [],
   "execution_count": 2
  },
  {
   "metadata": {
    "ExecuteTime": {
     "end_time": "2025-06-23T23:24:35.945987Z",
     "start_time": "2025-06-23T23:24:35.866170Z"
    }
   },
   "cell_type": "code",
   "source": [
    "late_ship = pd.read_csv(\"C:/Users/Emigb/Documents/Data Science/datasets/late_shipments.csv\")\n",
    "stack = pd.read_csv(\"C:/Users/Emigb/Documents/Data Science/datasets/stack_overflow.csv\")"
   ],
   "id": "88f24f4fc7a82532",
   "outputs": [],
   "execution_count": 3
  },
  {
   "metadata": {
    "ExecuteTime": {
     "end_time": "2025-06-23T23:24:35.987199Z",
     "start_time": "2025-06-23T23:24:35.955849Z"
    }
   },
   "cell_type": "code",
   "source": "late_ship.head()",
   "id": "38d6fe917cbd22",
   "outputs": [
    {
     "data": {
      "text/plain": [
       "        id       country managed_by  fulfill_via vendor_inco_term  \\\n",
       "0  36203.0       Nigeria   PMO - US  Direct Drop              EXW   \n",
       "1  30998.0      Botswana   PMO - US  Direct Drop              EXW   \n",
       "2  69871.0       Vietnam   PMO - US  Direct Drop              EXW   \n",
       "3  17648.0  South Africa   PMO - US  Direct Drop              DDP   \n",
       "4   5647.0        Uganda   PMO - US  Direct Drop              EXW   \n",
       "\n",
       "  shipment_mode  late_delivery late product_group    sub_classification  ...  \\\n",
       "0           Air            1.0  Yes          HRDT              HIV test  ...   \n",
       "1           Air            0.0   No          HRDT              HIV test  ...   \n",
       "2           Air            0.0   No           ARV                 Adult  ...   \n",
       "3         Ocean            0.0   No           ARV                 Adult  ...   \n",
       "4           Air            0.0   No          HRDT  HIV test - Ancillary  ...   \n",
       "\n",
       "  line_item_quantity line_item_value pack_price unit_price  \\\n",
       "0             2996.0       266644.00      89.00       0.89   \n",
       "1               25.0          800.00      32.00       1.60   \n",
       "2            22925.0       110040.00       4.80       0.08   \n",
       "3           152535.0       361507.95       2.37       0.04   \n",
       "4              850.0            8.50       0.01       0.00   \n",
       "\n",
       "             manufacturing_site first_line_designation  weight_kilograms  \\\n",
       "0       Alere Medical Co., Ltd.                    Yes            1426.0   \n",
       "1          Trinity Biotech, Plc                    Yes              10.0   \n",
       "2  Hetero Unit III Hyderabad IN                    Yes            3723.0   \n",
       "3     Aurobindo Unit III, India                    Yes            7698.0   \n",
       "4               Inverness Japan                    Yes              56.0   \n",
       "\n",
       "   freight_cost_usd  freight_cost_groups  line_item_insurance_usd  \n",
       "0          33279.83            expensive                   373.83  \n",
       "1            559.89           reasonable                     1.72  \n",
       "2          19056.13            expensive                   181.57  \n",
       "3          11372.23            expensive                   779.41  \n",
       "4            360.00           reasonable                     0.01  \n",
       "\n",
       "[5 rows x 27 columns]"
      ],
      "text/html": [
       "<div>\n",
       "<style scoped>\n",
       "    .dataframe tbody tr th:only-of-type {\n",
       "        vertical-align: middle;\n",
       "    }\n",
       "\n",
       "    .dataframe tbody tr th {\n",
       "        vertical-align: top;\n",
       "    }\n",
       "\n",
       "    .dataframe thead th {\n",
       "        text-align: right;\n",
       "    }\n",
       "</style>\n",
       "<table border=\"1\" class=\"dataframe\">\n",
       "  <thead>\n",
       "    <tr style=\"text-align: right;\">\n",
       "      <th></th>\n",
       "      <th>id</th>\n",
       "      <th>country</th>\n",
       "      <th>managed_by</th>\n",
       "      <th>fulfill_via</th>\n",
       "      <th>vendor_inco_term</th>\n",
       "      <th>shipment_mode</th>\n",
       "      <th>late_delivery</th>\n",
       "      <th>late</th>\n",
       "      <th>product_group</th>\n",
       "      <th>sub_classification</th>\n",
       "      <th>...</th>\n",
       "      <th>line_item_quantity</th>\n",
       "      <th>line_item_value</th>\n",
       "      <th>pack_price</th>\n",
       "      <th>unit_price</th>\n",
       "      <th>manufacturing_site</th>\n",
       "      <th>first_line_designation</th>\n",
       "      <th>weight_kilograms</th>\n",
       "      <th>freight_cost_usd</th>\n",
       "      <th>freight_cost_groups</th>\n",
       "      <th>line_item_insurance_usd</th>\n",
       "    </tr>\n",
       "  </thead>\n",
       "  <tbody>\n",
       "    <tr>\n",
       "      <th>0</th>\n",
       "      <td>36203.0</td>\n",
       "      <td>Nigeria</td>\n",
       "      <td>PMO - US</td>\n",
       "      <td>Direct Drop</td>\n",
       "      <td>EXW</td>\n",
       "      <td>Air</td>\n",
       "      <td>1.0</td>\n",
       "      <td>Yes</td>\n",
       "      <td>HRDT</td>\n",
       "      <td>HIV test</td>\n",
       "      <td>...</td>\n",
       "      <td>2996.0</td>\n",
       "      <td>266644.00</td>\n",
       "      <td>89.00</td>\n",
       "      <td>0.89</td>\n",
       "      <td>Alere Medical Co., Ltd.</td>\n",
       "      <td>Yes</td>\n",
       "      <td>1426.0</td>\n",
       "      <td>33279.83</td>\n",
       "      <td>expensive</td>\n",
       "      <td>373.83</td>\n",
       "    </tr>\n",
       "    <tr>\n",
       "      <th>1</th>\n",
       "      <td>30998.0</td>\n",
       "      <td>Botswana</td>\n",
       "      <td>PMO - US</td>\n",
       "      <td>Direct Drop</td>\n",
       "      <td>EXW</td>\n",
       "      <td>Air</td>\n",
       "      <td>0.0</td>\n",
       "      <td>No</td>\n",
       "      <td>HRDT</td>\n",
       "      <td>HIV test</td>\n",
       "      <td>...</td>\n",
       "      <td>25.0</td>\n",
       "      <td>800.00</td>\n",
       "      <td>32.00</td>\n",
       "      <td>1.60</td>\n",
       "      <td>Trinity Biotech, Plc</td>\n",
       "      <td>Yes</td>\n",
       "      <td>10.0</td>\n",
       "      <td>559.89</td>\n",
       "      <td>reasonable</td>\n",
       "      <td>1.72</td>\n",
       "    </tr>\n",
       "    <tr>\n",
       "      <th>2</th>\n",
       "      <td>69871.0</td>\n",
       "      <td>Vietnam</td>\n",
       "      <td>PMO - US</td>\n",
       "      <td>Direct Drop</td>\n",
       "      <td>EXW</td>\n",
       "      <td>Air</td>\n",
       "      <td>0.0</td>\n",
       "      <td>No</td>\n",
       "      <td>ARV</td>\n",
       "      <td>Adult</td>\n",
       "      <td>...</td>\n",
       "      <td>22925.0</td>\n",
       "      <td>110040.00</td>\n",
       "      <td>4.80</td>\n",
       "      <td>0.08</td>\n",
       "      <td>Hetero Unit III Hyderabad IN</td>\n",
       "      <td>Yes</td>\n",
       "      <td>3723.0</td>\n",
       "      <td>19056.13</td>\n",
       "      <td>expensive</td>\n",
       "      <td>181.57</td>\n",
       "    </tr>\n",
       "    <tr>\n",
       "      <th>3</th>\n",
       "      <td>17648.0</td>\n",
       "      <td>South Africa</td>\n",
       "      <td>PMO - US</td>\n",
       "      <td>Direct Drop</td>\n",
       "      <td>DDP</td>\n",
       "      <td>Ocean</td>\n",
       "      <td>0.0</td>\n",
       "      <td>No</td>\n",
       "      <td>ARV</td>\n",
       "      <td>Adult</td>\n",
       "      <td>...</td>\n",
       "      <td>152535.0</td>\n",
       "      <td>361507.95</td>\n",
       "      <td>2.37</td>\n",
       "      <td>0.04</td>\n",
       "      <td>Aurobindo Unit III, India</td>\n",
       "      <td>Yes</td>\n",
       "      <td>7698.0</td>\n",
       "      <td>11372.23</td>\n",
       "      <td>expensive</td>\n",
       "      <td>779.41</td>\n",
       "    </tr>\n",
       "    <tr>\n",
       "      <th>4</th>\n",
       "      <td>5647.0</td>\n",
       "      <td>Uganda</td>\n",
       "      <td>PMO - US</td>\n",
       "      <td>Direct Drop</td>\n",
       "      <td>EXW</td>\n",
       "      <td>Air</td>\n",
       "      <td>0.0</td>\n",
       "      <td>No</td>\n",
       "      <td>HRDT</td>\n",
       "      <td>HIV test - Ancillary</td>\n",
       "      <td>...</td>\n",
       "      <td>850.0</td>\n",
       "      <td>8.50</td>\n",
       "      <td>0.01</td>\n",
       "      <td>0.00</td>\n",
       "      <td>Inverness Japan</td>\n",
       "      <td>Yes</td>\n",
       "      <td>56.0</td>\n",
       "      <td>360.00</td>\n",
       "      <td>reasonable</td>\n",
       "      <td>0.01</td>\n",
       "    </tr>\n",
       "  </tbody>\n",
       "</table>\n",
       "<p>5 rows × 27 columns</p>\n",
       "</div>"
      ]
     },
     "execution_count": 4,
     "metadata": {},
     "output_type": "execute_result"
    }
   ],
   "execution_count": 4
  },
  {
   "metadata": {},
   "cell_type": "markdown",
   "source": "CALCULATING SAMPLE MEAN",
   "id": "b3c8846903cfb255"
  },
  {
   "metadata": {},
   "cell_type": "markdown",
   "source": [
    "The late_shipments dataset contains supply chain data on the delivery of medical supplies. Each row represents one delivery of a part. The late columns denotes whether or not the part was delivered late. A value of \"Yes\" means that the part was delivered late, and a value of \"No\" means the part was delivered on time.\n",
    "We begin our analysis by calculating a point estimate (or sample statistic), namely the proportion of late shipments."
   ],
   "id": "c5092a8cac8c3033"
  },
  {
   "metadata": {
    "ExecuteTime": {
     "end_time": "2025-06-23T23:24:36.016427Z",
     "start_time": "2025-06-23T23:24:36.009984Z"
    }
   },
   "cell_type": "code",
   "source": [
    "#1. Calculate the proportion of late shipments in the sample; that is, the mean cases where the late column is \"Yes\".\n",
    "late_ship_samp = (late_ship['late']=='Yes').mean()\n",
    "print(late_ship_samp)"
   ],
   "id": "47eb38f20f9f9b8c",
   "outputs": [
    {
     "name": "stdout",
     "output_type": "stream",
     "text": [
      "0.061\n"
     ]
    }
   ],
   "execution_count": 5
  },
  {
   "metadata": {},
   "cell_type": "markdown",
   "source": "CALCULATING Z-SCORES",
   "id": "57ff72033883656f"
  },
  {
   "metadata": {},
   "cell_type": "markdown",
   "source": [
    "Since variables have arbitrary ranges and units, we need to standardize them. For example, a hypothesis test that gave different answers if the variables were in Euros instead of US dollars would be of little value. Standardization avoids that.\n",
    "One standardized value of interest in a hypothesis test is called a z-score. To calculate it, you need three numbers: the sample statistic (point estimate), the hypothesized statistic, and the standard error of the statistic (estimated from the bootstrap distribution)."
   ],
   "id": "300a3a3979b0834a"
  },
  {
   "metadata": {
    "ExecuteTime": {
     "end_time": "2025-06-23T23:24:36.059583Z",
     "start_time": "2025-06-23T23:24:36.054033Z"
    }
   },
   "cell_type": "code",
   "source": "late_ship_hyp = 6/100",
   "id": "d3bda6a0e4b5a8e",
   "outputs": [],
   "execution_count": 6
  },
  {
   "metadata": {
    "ExecuteTime": {
     "end_time": "2025-06-23T23:24:37.654095Z",
     "start_time": "2025-06-23T23:24:36.067120Z"
    }
   },
   "cell_type": "code",
   "source": [
    "#Calculating the bootstrap distribution of sample mean\n",
    "late_shipments_boot_distn = []\n",
    "for i in range (5000):\n",
    "    late_shipments_boot_distn.append(\n",
    "        np.mean(\n",
    "            late_ship.sample(frac=1,replace=True)['late_delivery']\n",
    "        )\n",
    "    )"
   ],
   "id": "ca17952e2f793c22",
   "outputs": [],
   "execution_count": 7
  },
  {
   "metadata": {
    "ExecuteTime": {
     "end_time": "2025-06-23T23:24:37.805547Z",
     "start_time": "2025-06-23T23:24:37.660416Z"
    }
   },
   "cell_type": "code",
   "source": [
    "plt.hist(late_shipments_boot_distn, bins = 50)\n",
    "plt.show()"
   ],
   "id": "b178ddb526f7b1dd",
   "outputs": [
    {
     "data": {
      "text/plain": [
       "<Figure size 640x480 with 1 Axes>"
      ],
      "image/png": "[encoded data removed]"
     },
     "metadata": {},
     "output_type": "display_data"
    }
   ],
   "execution_count": 8
  },
  {
   "metadata": {
    "ExecuteTime": {
     "end_time": "2025-06-23T23:24:37.828988Z",
     "start_time": "2025-06-23T23:24:37.823899Z"
    }
   },
   "cell_type": "code",
   "source": [
    "#Calculating Standard Error\n",
    "std_error = np.std(late_shipments_boot_distn, ddof=1)"
   ],
   "id": "d77a90aac10ae03c",
   "outputs": [],
   "execution_count": 9
  },
  {
   "metadata": {
    "ExecuteTime": {
     "end_time": "2025-06-23T23:24:37.846186Z",
     "start_time": "2025-06-23T23:24:37.839765Z"
    }
   },
   "cell_type": "code",
   "source": [
    "#Calculation Z-Score\n",
    "z_score = (late_ship_samp-late_ship_hyp)/std_error\n",
    "print(z_score)"
   ],
   "id": "4e1cea54118f211a",
   "outputs": [
    {
     "name": "stdout",
     "output_type": "stream",
     "text": [
      "0.13205724516701156\n"
     ]
    }
   ],
   "execution_count": 10
  },
  {
   "metadata": {},
   "cell_type": "markdown",
   "source": [
    "T-TESTS\n",
    "Two sample mean test statistic"
   ],
   "id": "1fba4e9177f9cabe"
  },
  {
   "metadata": {},
   "cell_type": "markdown",
   "source": "The hypothesis test for determining if there is a difference between the means of two populations uses a \"T-Test\", and it can be calculated from three values from each sample using this equation.",
   "id": "329f6d6daa4dfa26"
  },
  {
   "metadata": {
    "ExecuteTime": {
     "end_time": "2025-06-23T23:28:29.793029Z",
     "start_time": "2025-06-23T23:28:29.782552Z"
    }
   },
   "cell_type": "code",
   "source": [
    "#Calculating for the value of xbar (sample mean)\n",
    "xbar = late_ship.groupby('late')['weight_kilograms'].mean()\n",
    "print(xbar)\n",
    "\n",
    "xbar_no = xbar['No']\n",
    "xbar_yes = xbar['Yes']\n"
   ],
   "id": "3015f671c02dba38",
   "outputs": [
    {
     "name": "stdout",
     "output_type": "stream",
     "text": [
      "late\n",
      "No     1897.791267\n",
      "Yes    2715.672131\n",
      "Name: weight_kilograms, dtype: float64\n"
     ]
    }
   ],
   "execution_count": 17
  },
  {
   "metadata": {
    "ExecuteTime": {
     "end_time": "2025-06-23T23:29:33.819989Z",
     "start_time": "2025-06-23T23:29:33.811246Z"
    }
   },
   "cell_type": "code",
   "source": [
    "#Calculating for the value of sbar (sample std)\n",
    "sbar = late_ship.groupby('late')['weight_kilograms'].std()\n",
    "print(sbar)\n",
    "\n",
    "sbar_no = sbar['No']\n",
    "sbar_yes = sbar['Yes']"
   ],
   "id": "c88de23f55820613",
   "outputs": [
    {
     "name": "stdout",
     "output_type": "stream",
     "text": [
      "late\n",
      "No     3154.039507\n",
      "Yes    2544.688211\n",
      "Name: weight_kilograms, dtype: float64\n"
     ]
    }
   ],
   "execution_count": 20
  },
  {
   "metadata": {
    "ExecuteTime": {
     "end_time": "2025-06-23T23:32:42.556870Z",
     "start_time": "2025-06-23T23:32:42.541845Z"
    }
   },
   "cell_type": "code",
   "source": [
    "#Calculating for the value of n (sample size)\n",
    "n = late_ship.groupby('late')['weight_kilograms'].count()\n",
    "print(n)\n",
    "\n",
    "n_no = n['No']\n",
    "n_yes = n['Yes']"
   ],
   "id": "fd94c64774cef4f1",
   "outputs": [
    {
     "name": "stdout",
     "output_type": "stream",
     "text": [
      "late\n",
      "No     939\n",
      "Yes     61\n",
      "Name: weight_kilograms, dtype: int64\n"
     ]
    }
   ],
   "execution_count": 24
  },
  {
   "metadata": {
    "ExecuteTime": {
     "end_time": "2025-06-23T23:33:38.790760Z",
     "start_time": "2025-06-23T23:33:38.783285Z"
    }
   },
   "cell_type": "code",
   "source": [
    "#Calculate the numerator of the t test statistic.\n",
    "numerator = xbar_no - xbar_yes\n",
    "print(numerator)"
   ],
   "id": "f27d657a2667d286",
   "outputs": [
    {
     "name": "stdout",
     "output_type": "stream",
     "text": [
      "-817.8808638418964\n"
     ]
    }
   ],
   "execution_count": 26
  },
  {
   "metadata": {
    "ExecuteTime": {
     "end_time": "2025-06-23T23:34:06.866088Z",
     "start_time": "2025-06-23T23:34:06.859697Z"
    }
   },
   "cell_type": "code",
   "source": [
    "#Calculate the denominator of the t test statistic.\n",
    "denominator = np.sqrt(sbar_no ** 2/n_no + sbar_yes **2/n_yes)\n",
    "print(denominator)"
   ],
   "id": "2b54492b6a85b352",
   "outputs": [
    {
     "name": "stdout",
     "output_type": "stream",
     "text": [
      "341.68543274794337\n"
     ]
    }
   ],
   "execution_count": 28
  },
  {
   "metadata": {
    "ExecuteTime": {
     "end_time": "2025-06-23T23:38:08.187829Z",
     "start_time": "2025-06-23T23:38:08.177011Z"
    }
   },
   "cell_type": "code",
   "source": [
    "# Calculate the test statistic\n",
    "t_stat = numerator/denominator\n",
    "print(t_stat)"
   ],
   "id": "53089ce8ebe6618f",
   "outputs": [
    {
     "name": "stdout",
     "output_type": "stream",
     "text": [
      "-2.3936661778766433\n"
     ]
    }
   ],
   "execution_count": 31
  },
  {
   "metadata": {},
   "cell_type": "markdown",
   "source": "CALCULATING P-VALUES",
   "id": "12ddaa165087ae53"
  },
  {
   "metadata": {},
   "cell_type": "code",
   "outputs": [],
   "execution_count": null,
   "source": "",
   "id": "3d8eef14958eaaa5"
  }
 ],
 "metadata": {
  "kernelspec": {
   "display_name": "Python 3",
   "language": "python",
   "name": "python3"
  },
  "language_info": {
   "codemirror_mode": {
    "name": "ipython",
    "version": 2
   },
   "file_extension": ".py",
   "mimetype": "text/x-python",
   "name": "python",
   "nbconvert_exporter": "python",
   "pygments_lexer": "ipython2",
   "version": "2.7.6"
  }
 },
 "nbformat": 4,
 "nbformat_minor": 5
}
